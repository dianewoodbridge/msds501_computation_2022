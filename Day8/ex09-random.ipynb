{
 "cells": [
  {
   "cell_type": "code",
   "execution_count": 1,
   "id": "9d760b39-598e-42c8-aa93-adf0e7c6fa8d",
   "metadata": {},
   "outputs": [],
   "source": [
    "import numpy as np"
   ]
  },
  {
   "cell_type": "code",
   "execution_count": 15,
   "id": "b25a9df8-3eaa-4f5a-adb3-8ca2222fff44",
   "metadata": {},
   "outputs": [
    {
     "name": "stdout",
     "output_type": "stream",
     "text": [
      "[37 12 72  9 75  5 79 64 16  1]\n",
      "[37 12 72  9 75  5 79 64 16  1]\n",
      "[37 12 72  9 75  5 79 64 16  1]\n",
      "[37 12 72  9 75  5 79 64 16  1]\n",
      "[37 12 72  9 75  5 79 64 16  1]\n"
     ]
    }
   ],
   "source": [
    "for i in range(5):\n",
    "    np.random.seed(1)\n",
    "    print(np.random.randint(0, 100, 10))"
   ]
  },
  {
   "cell_type": "code",
   "execution_count": 19,
   "id": "142b86cf-86a1-49e3-8b04-9ff7c47af8eb",
   "metadata": {},
   "outputs": [
    {
     "name": "stdout",
     "output_type": "stream",
     "text": [
      "[ 1.62434536 -0.61175641 -0.52817175 -1.07296862  0.86540763 -2.3015387\n",
      "  1.74481176 -0.7612069   0.3190391  -0.24937038]\n",
      "[ 1.62434536 -0.61175641 -0.52817175 -1.07296862  0.86540763 -2.3015387\n",
      "  1.74481176 -0.7612069   0.3190391  -0.24937038]\n",
      "[ 1.62434536 -0.61175641 -0.52817175 -1.07296862  0.86540763 -2.3015387\n",
      "  1.74481176 -0.7612069   0.3190391  -0.24937038]\n",
      "[ 1.62434536 -0.61175641 -0.52817175 -1.07296862  0.86540763 -2.3015387\n",
      "  1.74481176 -0.7612069   0.3190391  -0.24937038]\n",
      "[ 1.62434536 -0.61175641 -0.52817175 -1.07296862  0.86540763 -2.3015387\n",
      "  1.74481176 -0.7612069   0.3190391  -0.24937038]\n"
     ]
    }
   ],
   "source": [
    "for i in range(5):\n",
    "    np.random.seed(1)\n",
    "    print(np.random.normal(0, 1, 10))"
   ]
  },
  {
   "cell_type": "code",
   "execution_count": 21,
   "id": "0dca1063-dda8-4a74-bef5-fad36688708c",
   "metadata": {},
   "outputs": [
    {
     "name": "stdout",
     "output_type": "stream",
     "text": [
      "[3.47814705e-01 2.61631977e-08 4.30745830e-02 6.93857327e-02\n",
      " 3.14848857e-01 3.51448082e-01 8.36014448e-02 1.50016052e-03\n",
      " 3.48286596e-01 3.94169851e-02]\n",
      "[3.47814705e-01 2.61631977e-08 4.30745830e-02 6.93857327e-02\n",
      " 3.14848857e-01 3.51448082e-01 8.36014448e-02 1.50016052e-03\n",
      " 3.48286596e-01 3.94169851e-02]\n",
      "[3.47814705e-01 2.61631977e-08 4.30745830e-02 6.93857327e-02\n",
      " 3.14848857e-01 3.51448082e-01 8.36014448e-02 1.50016052e-03\n",
      " 3.48286596e-01 3.94169851e-02]\n",
      "[3.47814705e-01 2.61631977e-08 4.30745830e-02 6.93857327e-02\n",
      " 3.14848857e-01 3.51448082e-01 8.36014448e-02 1.50016052e-03\n",
      " 3.48286596e-01 3.94169851e-02]\n",
      "[3.47814705e-01 2.61631977e-08 4.30745830e-02 6.93857327e-02\n",
      " 3.14848857e-01 3.51448082e-01 8.36014448e-02 1.50016052e-03\n",
      " 3.48286596e-01 3.94169851e-02]\n"
     ]
    }
   ],
   "source": [
    "for i in range(5):\n",
    "    np.random.seed(1)\n",
    "    print(np.random.chisquare(1, 10))"
   ]
  },
  {
   "cell_type": "code",
   "execution_count": null,
   "id": "e5b7a0ae-c115-4ec9-a1ed-ae4ca3fbc900",
   "metadata": {},
   "outputs": [],
   "source": []
  }
 ],
 "metadata": {
  "kernelspec": {
   "display_name": "Python 3 (ipykernel)",
   "language": "python",
   "name": "python3"
  },
  "language_info": {
   "codemirror_mode": {
    "name": "ipython",
    "version": 3
   },
   "file_extension": ".py",
   "mimetype": "text/x-python",
   "name": "python",
   "nbconvert_exporter": "python",
   "pygments_lexer": "ipython3",
   "version": "3.9.12"
  },
  "varInspector": {
   "cols": {
    "lenName": 16,
    "lenType": 16,
    "lenVar": 40
   },
   "kernels_config": {
    "python": {
     "delete_cmd_postfix": "",
     "delete_cmd_prefix": "del ",
     "library": "var_list.py",
     "varRefreshCmd": "print(var_dic_list())"
    },
    "r": {
     "delete_cmd_postfix": ") ",
     "delete_cmd_prefix": "rm(",
     "library": "var_list.r",
     "varRefreshCmd": "cat(var_dic_list()) "
    }
   },
   "types_to_exclude": [
    "module",
    "function",
    "builtin_function_or_method",
    "instance",
    "_Feature"
   ],
   "window_display": false
  }
 },
 "nbformat": 4,
 "nbformat_minor": 5
}
