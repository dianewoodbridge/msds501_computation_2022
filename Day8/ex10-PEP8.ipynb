{
 "cells": [
  {
   "cell_type": "markdown",
   "id": "e48c483e-48c7-4a9d-9eb6-44fd529c3684",
   "metadata": {},
   "source": [
    "# Which one is violating PEP8 standards in the following code?\n",
    "- Update the following code to meet the PEP8 standards."
   ]
  },
  {
   "cell_type": "code",
   "execution_count": 7,
   "id": "3eef85a0-3136-446c-8217-f56d9e726ea8",
   "metadata": {},
   "outputs": [],
   "source": [
    "\n",
    "\n",
    "def concat_rows(a1, a2):\n",
    "    return np.concatenate((a1, a2), 0)\n",
    "\n",
    "def concat_cols(a1, a2):\n",
    "    return np.concatenate((a1, a2), 1)\n",
    "import numpy as np\n",
    "array_1 = np.array([[1,2,3],[4,5,6]])\n",
    "array_2 = np.array([[7,8,9]])\n",
    "concat_rows(array_1,array_2)"
   ]
  },
  {
   "cell_type": "code",
   "execution_count": null,
   "id": "839131f1-058d-47c0-9754-97fffc59a7ca",
   "metadata": {},
   "outputs": [],
   "source": []
  }
 ],
 "metadata": {
  "kernelspec": {
   "display_name": "Python 3 (ipykernel)",
   "language": "python",
   "name": "python3"
  },
  "language_info": {
   "codemirror_mode": {
    "name": "ipython",
    "version": 3
   },
   "file_extension": ".py",
   "mimetype": "text/x-python",
   "name": "python",
   "nbconvert_exporter": "python",
   "pygments_lexer": "ipython3",
   "version": "3.9.12"
  }
 },
 "nbformat": 4,
 "nbformat_minor": 5
}
