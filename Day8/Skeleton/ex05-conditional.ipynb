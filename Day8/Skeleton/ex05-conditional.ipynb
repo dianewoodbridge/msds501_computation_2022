{
 "cells": [
  {
   "cell_type": "code",
   "execution_count": 1,
   "id": "8ea18a71-068e-4e65-a7f3-9b8b7e508d32",
   "metadata": {},
   "outputs": [],
   "source": [
    "import numpy as np"
   ]
  },
  {
   "cell_type": "code",
   "execution_count": 2,
   "id": "6d0c2622-8345-4a43-94af-aae798bc512f",
   "metadata": {},
   "outputs": [],
   "source": [
    "bootcamp = np.array(['Diane', 'Jeff', 'Shan'])"
   ]
  },
  {
   "cell_type": "markdown",
   "id": "114fa95f-0287-49de-aadc-2f46d71ff46c",
   "metadata": {},
   "source": [
    "## For bootcamp, if the value is 'Diane' return 'Comp', if it is 'Jeff', return 'Stat' otherwise 'EDA'"
   ]
  },
  {
   "cell_type": "code",
   "execution_count": null,
   "id": "a1c5edf1-6e0c-42c3-a1ac-1a9587ea10fe",
   "metadata": {},
   "outputs": [],
   "source": []
  }
 ],
 "metadata": {
  "kernelspec": {
   "display_name": "Python 3 (ipykernel)",
   "language": "python",
   "name": "python3"
  },
  "language_info": {
   "codemirror_mode": {
    "name": "ipython",
    "version": 3
   },
   "file_extension": ".py",
   "mimetype": "text/x-python",
   "name": "python",
   "nbconvert_exporter": "python",
   "pygments_lexer": "ipython3",
   "version": "3.9.12"
  },
  "varInspector": {
   "cols": {
    "lenName": 16,
    "lenType": 16,
    "lenVar": 40
   },
   "kernels_config": {
    "python": {
     "delete_cmd_postfix": "",
     "delete_cmd_prefix": "del ",
     "library": "var_list.py",
     "varRefreshCmd": "print(var_dic_list())"
    },
    "r": {
     "delete_cmd_postfix": ") ",
     "delete_cmd_prefix": "rm(",
     "library": "var_list.r",
     "varRefreshCmd": "cat(var_dic_list()) "
    }
   },
   "types_to_exclude": [
    "module",
    "function",
    "builtin_function_or_method",
    "instance",
    "_Feature"
   ],
   "window_display": false
  }
 },
 "nbformat": 4,
 "nbformat_minor": 5
}
