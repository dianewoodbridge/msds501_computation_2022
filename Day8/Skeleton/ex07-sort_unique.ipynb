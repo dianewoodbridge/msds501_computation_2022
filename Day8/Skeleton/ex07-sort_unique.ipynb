{
 "cells": [
  {
   "cell_type": "code",
   "execution_count": 1,
   "id": "573a3cb1-363d-4cd6-b6d6-432bda245fc7",
   "metadata": {},
   "outputs": [],
   "source": [
    "import numpy as np"
   ]
  },
  {
   "cell_type": "code",
   "execution_count": 2,
   "id": "c9f36887-f84e-41de-8df9-4d50557f7f75",
   "metadata": {},
   "outputs": [],
   "source": [
    "array = np.array([[1, 1, 2, 2],\n",
    "                  [2, 2, 3, 3],\n",
    "                  [2, 2, 1, 1]])"
   ]
  },
  {
   "cell_type": "markdown",
   "id": "cbc46df1-7754-4643-b148-7def73c5e9bc",
   "metadata": {},
   "source": [
    "## Sort the array in a row and also in a column"
   ]
  },
  {
   "cell_type": "code",
   "execution_count": null,
   "id": "490e115d-82fa-406c-a1d1-e94bc88fef9f",
   "metadata": {},
   "outputs": [],
   "source": []
  },
  {
   "cell_type": "markdown",
   "id": "ae646717-15f5-49c1-961b-3d1465b4e795",
   "metadata": {},
   "source": [
    "## Return unique values in array"
   ]
  },
  {
   "cell_type": "code",
   "execution_count": null,
   "id": "3e1d9ab3-bdeb-4d2d-b82d-154a68ae35af",
   "metadata": {},
   "outputs": [],
   "source": []
  }
 ],
 "metadata": {
  "kernelspec": {
   "display_name": "Python 3 (ipykernel)",
   "language": "python",
   "name": "python3"
  },
  "language_info": {
   "codemirror_mode": {
    "name": "ipython",
    "version": 3
   },
   "file_extension": ".py",
   "mimetype": "text/x-python",
   "name": "python",
   "nbconvert_exporter": "python",
   "pygments_lexer": "ipython3",
   "version": "3.9.12"
  },
  "varInspector": {
   "cols": {
    "lenName": 16,
    "lenType": 16,
    "lenVar": 40
   },
   "kernels_config": {
    "python": {
     "delete_cmd_postfix": "",
     "delete_cmd_prefix": "del ",
     "library": "var_list.py",
     "varRefreshCmd": "print(var_dic_list())"
    },
    "r": {
     "delete_cmd_postfix": ") ",
     "delete_cmd_prefix": "rm(",
     "library": "var_list.r",
     "varRefreshCmd": "cat(var_dic_list()) "
    }
   },
   "types_to_exclude": [
    "module",
    "function",
    "builtin_function_or_method",
    "instance",
    "_Feature"
   ],
   "window_display": false
  }
 },
 "nbformat": 4,
 "nbformat_minor": 5
}
