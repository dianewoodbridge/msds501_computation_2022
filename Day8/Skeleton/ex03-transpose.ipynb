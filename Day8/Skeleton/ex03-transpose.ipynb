{
 "cells": [
  {
   "cell_type": "code",
   "execution_count": 1,
   "id": "a45c9ac1-f2f2-4841-9a20-a2a57c457109",
   "metadata": {},
   "outputs": [],
   "source": [
    "import numpy as np"
   ]
  },
  {
   "cell_type": "code",
   "execution_count": 2,
   "id": "302790fc-5a94-49ae-9313-5bae9c74502d",
   "metadata": {},
   "outputs": [],
   "source": [
    "np_array = np.array([[1, 2, 3], [4, 5, 6], [7, 8, 9]])"
   ]
  },
  {
   "cell_type": "code",
   "execution_count": 3,
   "id": "73c8529e-7363-4639-8d4b-70f14f396f3b",
   "metadata": {},
   "outputs": [
    {
     "data": {
      "text/plain": [
       "array([[1, 2, 3],\n",
       "       [4, 5, 6],\n",
       "       [7, 8, 9]])"
      ]
     },
     "execution_count": 3,
     "metadata": {},
     "output_type": "execute_result"
    }
   ],
   "source": [
    "np_array"
   ]
  },
  {
   "cell_type": "markdown",
   "id": "98c07286-bce7-499a-bc9f-2b6850407427",
   "metadata": {},
   "source": [
    "## Transpose np_array"
   ]
  },
  {
   "cell_type": "code",
   "execution_count": null,
   "id": "48949f13-9927-4a30-8ca1-7bf8d6b32fa4",
   "metadata": {},
   "outputs": [],
   "source": []
  },
  {
   "cell_type": "markdown",
   "id": "83aebf6e-c418-417e-83d5-78aa50a865c9",
   "metadata": {},
   "source": [
    "## Reshape np_array"
   ]
  },
  {
   "cell_type": "code",
   "execution_count": null,
   "id": "c1df5f7a-ad60-48d8-a410-140f6081843d",
   "metadata": {},
   "outputs": [],
   "source": []
  },
  {
   "cell_type": "markdown",
   "id": "483495cd-b13b-48dd-8e57-d78f91f3349d",
   "metadata": {},
   "source": [
    "## Split"
   ]
  },
  {
   "cell_type": "markdown",
   "id": "2dbe7435-7037-4d47-9669-0f3927337f25",
   "metadata": {},
   "source": [
    "Split np_array to have first two rows and last one row."
   ]
  },
  {
   "cell_type": "code",
   "execution_count": null,
   "id": "3ece37e6-cd80-46a2-aee6-ddb497c9da26",
   "metadata": {},
   "outputs": [],
   "source": []
  },
  {
   "cell_type": "markdown",
   "id": "24c46ef2-593f-400f-841f-612b6048ef9b",
   "metadata": {},
   "source": [
    "Split np_array to have first two columns and last one column."
   ]
  },
  {
   "cell_type": "code",
   "execution_count": null,
   "id": "0f24272a-359c-40f5-b5a9-96b919f5122c",
   "metadata": {},
   "outputs": [],
   "source": []
  },
  {
   "cell_type": "markdown",
   "id": "848df6d4-743e-4fbb-b5d5-b5a9be7ba631",
   "metadata": {},
   "source": [
    "## Concatenate"
   ]
  },
  {
   "cell_type": "markdown",
   "id": "3e6653cf-1c92-480b-826e-b5cc26838044",
   "metadata": {},
   "source": [
    "add the 4th row with 10, 11 and 12"
   ]
  },
  {
   "cell_type": "code",
   "execution_count": null,
   "id": "ce7f7239-ad32-4197-81c9-f5b124aab954",
   "metadata": {},
   "outputs": [],
   "source": []
  },
  {
   "cell_type": "markdown",
   "id": "4d394e97-9724-4b41-83ba-ab63ca8dce92",
   "metadata": {},
   "source": [
    "add the 4th column with 10, 11 and 12"
   ]
  },
  {
   "cell_type": "code",
   "execution_count": null,
   "id": "2b2c1a61-18cf-4e32-9b55-e8210c998073",
   "metadata": {},
   "outputs": [],
   "source": []
  }
 ],
 "metadata": {
  "kernelspec": {
   "display_name": "Python 3 (ipykernel)",
   "language": "python",
   "name": "python3"
  },
  "language_info": {
   "codemirror_mode": {
    "name": "ipython",
    "version": 3
   },
   "file_extension": ".py",
   "mimetype": "text/x-python",
   "name": "python",
   "nbconvert_exporter": "python",
   "pygments_lexer": "ipython3",
   "version": "3.9.12"
  },
  "varInspector": {
   "cols": {
    "lenName": 16,
    "lenType": 16,
    "lenVar": 40
   },
   "kernels_config": {
    "python": {
     "delete_cmd_postfix": "",
     "delete_cmd_prefix": "del ",
     "library": "var_list.py",
     "varRefreshCmd": "print(var_dic_list())"
    },
    "r": {
     "delete_cmd_postfix": ") ",
     "delete_cmd_prefix": "rm(",
     "library": "var_list.r",
     "varRefreshCmd": "cat(var_dic_list()) "
    }
   },
   "types_to_exclude": [
    "module",
    "function",
    "builtin_function_or_method",
    "instance",
    "_Feature"
   ],
   "window_display": false
  }
 },
 "nbformat": 4,
 "nbformat_minor": 5
}
