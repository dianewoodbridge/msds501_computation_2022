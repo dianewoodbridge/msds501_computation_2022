{
 "cells": [
  {
   "cell_type": "code",
   "execution_count": 1,
   "id": "c6a84257-0a62-453d-8958-ae675e527b4c",
   "metadata": {},
   "outputs": [],
   "source": [
    "import numpy as np"
   ]
  },
  {
   "cell_type": "code",
   "execution_count": 11,
   "id": "8f6adece-2f82-4a03-9915-39dd6b74047a",
   "metadata": {},
   "outputs": [
    {
     "data": {
      "text/plain": [
       "array([1, 3, 4])"
      ]
     },
     "execution_count": 11,
     "metadata": {},
     "output_type": "execute_result"
    }
   ],
   "source": [
    "def myfunc(a, b):\n",
    "    if a > b:\n",
    "        return a\n",
    "    else:\n",
    "        return b\n",
    "\n",
    "\n",
    "vfunc = np.vectorize(myfunc)\n",
    "vfunc([1, 2, 3], [0, 3, 4])"
   ]
  },
  {
   "cell_type": "code",
   "execution_count": 16,
   "id": "1b32663e-ddaf-4a2e-badd-6ba5e380999c",
   "metadata": {},
   "outputs": [],
   "source": [
    "bootcamp = np.array(['Diane', 'Jeff', 'Shan'])\n",
    "fall_1 = np.array(['Cody', 'David', 'Mustafa'])"
   ]
  },
  {
   "cell_type": "markdown",
   "id": "668adbb3-72a6-47b3-aedb-812ff63168bc",
   "metadata": {},
   "source": [
    "## Create a function to return the length of string in an array."
   ]
  },
  {
   "cell_type": "code",
   "execution_count": 24,
   "id": "8395f8cb-811f-40d3-8811-01c48586abf4",
   "metadata": {},
   "outputs": [],
   "source": [
    "def string_len(x):\n",
    "    return len(x)"
   ]
  },
  {
   "cell_type": "code",
   "execution_count": 26,
   "id": "8c932989-3271-458b-b947-e1183ac9ba35",
   "metadata": {},
   "outputs": [],
   "source": [
    "name_len = np.vectorize(string_len)"
   ]
  },
  {
   "cell_type": "code",
   "execution_count": 27,
   "id": "4c23cae1-50ed-406a-9378-bc4f6c88f1ba",
   "metadata": {},
   "outputs": [
    {
     "data": {
      "text/plain": [
       "array([5, 4, 4])"
      ]
     },
     "execution_count": 27,
     "metadata": {},
     "output_type": "execute_result"
    }
   ],
   "source": [
    "name_len(bootcamp)"
   ]
  },
  {
   "cell_type": "markdown",
   "id": "75c01c50-1c0a-4e80-b4df-9715e36fb8e1",
   "metadata": {},
   "source": [
    "## Create a function to return a longer string of the same location in two element."
   ]
  },
  {
   "cell_type": "code",
   "execution_count": 17,
   "id": "00a17055-da3d-4788-bca2-0e040393bcea",
   "metadata": {},
   "outputs": [],
   "source": [
    "def string_len_compare(x, y):\n",
    "    if len(x) >= len(y):\n",
    "        return x\n",
    "    else:\n",
    "        return y"
   ]
  },
  {
   "cell_type": "code",
   "execution_count": 20,
   "id": "571c5dcb-0f71-4b3d-87bd-74ea58fa1545",
   "metadata": {},
   "outputs": [],
   "source": [
    "longer_name = np.vectorize(string_len_compare)"
   ]
  },
  {
   "cell_type": "code",
   "execution_count": 21,
   "id": "bbc03457-4aba-4519-bea2-ced3136495b3",
   "metadata": {},
   "outputs": [
    {
     "data": {
      "text/plain": [
       "array(['Diane', 'David', 'Mustafa'], dtype='<U7')"
      ]
     },
     "execution_count": 21,
     "metadata": {},
     "output_type": "execute_result"
    }
   ],
   "source": [
    "longer_name(bootcamp, fall_1)"
   ]
  },
  {
   "cell_type": "code",
   "execution_count": null,
   "id": "ee091563-72dd-4733-80a2-5976269e021c",
   "metadata": {},
   "outputs": [],
   "source": []
  }
 ],
 "metadata": {
  "kernelspec": {
   "display_name": "Python 3 (ipykernel)",
   "language": "python",
   "name": "python3"
  },
  "language_info": {
   "codemirror_mode": {
    "name": "ipython",
    "version": 3
   },
   "file_extension": ".py",
   "mimetype": "text/x-python",
   "name": "python",
   "nbconvert_exporter": "python",
   "pygments_lexer": "ipython3",
   "version": "3.9.12"
  },
  "varInspector": {
   "cols": {
    "lenName": 16,
    "lenType": 16,
    "lenVar": 40
   },
   "kernels_config": {
    "python": {
     "delete_cmd_postfix": "",
     "delete_cmd_prefix": "del ",
     "library": "var_list.py",
     "varRefreshCmd": "print(var_dic_list())"
    },
    "r": {
     "delete_cmd_postfix": ") ",
     "delete_cmd_prefix": "rm(",
     "library": "var_list.r",
     "varRefreshCmd": "cat(var_dic_list()) "
    }
   },
   "types_to_exclude": [
    "module",
    "function",
    "builtin_function_or_method",
    "instance",
    "_Feature"
   ],
   "window_display": false
  }
 },
 "nbformat": 4,
 "nbformat_minor": 5
}
