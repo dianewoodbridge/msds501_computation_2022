{
 "cells": [
  {
   "cell_type": "code",
   "execution_count": 1,
   "id": "d2e8e5d2-8a47-41b0-a29a-ad49e7315af5",
   "metadata": {},
   "outputs": [],
   "source": [
    "import numpy as np"
   ]
  },
  {
   "cell_type": "code",
   "execution_count": 2,
   "id": "57e0994a-44da-4ea2-b400-cbd0eefd4388",
   "metadata": {},
   "outputs": [],
   "source": [
    "np_array = np.array([[1, 2, 3], [4, 5, 6], [7, 8, 9]])"
   ]
  },
  {
   "cell_type": "code",
   "execution_count": 3,
   "id": "ec15719f-9bea-4f40-8f5e-98e08f216cca",
   "metadata": {},
   "outputs": [
    {
     "data": {
      "text/plain": [
       "array([[1, 2, 3],\n",
       "       [4, 5, 6],\n",
       "       [7, 8, 9]])"
      ]
     },
     "execution_count": 3,
     "metadata": {},
     "output_type": "execute_result"
    }
   ],
   "source": [
    "np_array"
   ]
  },
  {
   "cell_type": "code",
   "execution_count": 4,
   "id": "c4792034-8dab-42e5-a247-24cfc3d2cece",
   "metadata": {},
   "outputs": [
    {
     "data": {
      "text/plain": [
       "numpy.ndarray"
      ]
     },
     "execution_count": 4,
     "metadata": {},
     "output_type": "execute_result"
    }
   ],
   "source": [
    "type(np_array)"
   ]
  },
  {
   "cell_type": "markdown",
   "id": "88e4997f-4a1e-48d8-9ca4-450554aa9635",
   "metadata": {},
   "source": [
    "## Basic Indexing\n",
    "\n",
    "Return the 2nd row's 3rd value"
   ]
  },
  {
   "cell_type": "code",
   "execution_count": 5,
   "id": "12a0da5d-6114-47be-bc07-608c96d94393",
   "metadata": {},
   "outputs": [
    {
     "data": {
      "text/plain": [
       "array([4, 5, 6])"
      ]
     },
     "execution_count": 5,
     "metadata": {},
     "output_type": "execute_result"
    }
   ],
   "source": [
    "np_array[1]"
   ]
  },
  {
   "cell_type": "markdown",
   "id": "74d89c6a-e20e-47e8-900f-c1178818057d",
   "metadata": {},
   "source": [
    "The following are equivalent"
   ]
  },
  {
   "cell_type": "code",
   "execution_count": 6,
   "id": "d2cec8a9-a964-4ec7-a662-b7778a301479",
   "metadata": {},
   "outputs": [
    {
     "data": {
      "text/plain": [
       "6"
      ]
     },
     "execution_count": 6,
     "metadata": {},
     "output_type": "execute_result"
    }
   ],
   "source": [
    "np_array[1][2]"
   ]
  },
  {
   "cell_type": "code",
   "execution_count": 7,
   "id": "c78d9148-fa18-4169-aa0f-eec3f2ca081e",
   "metadata": {},
   "outputs": [
    {
     "data": {
      "text/plain": [
       "6"
      ]
     },
     "execution_count": 7,
     "metadata": {},
     "output_type": "execute_result"
    }
   ],
   "source": [
    "np_array[1, 2]"
   ]
  },
  {
   "cell_type": "markdown",
   "id": "2db7d548-63d0-46c2-bd14-9e08b2f769ce",
   "metadata": {},
   "source": [
    "You can also access specific colums only using the following"
   ]
  },
  {
   "cell_type": "code",
   "execution_count": 8,
   "id": "424696bf-9f35-4812-9af9-500d479de817",
   "metadata": {},
   "outputs": [
    {
     "data": {
      "text/plain": [
       "array([3, 6, 9])"
      ]
     },
     "execution_count": 8,
     "metadata": {},
     "output_type": "execute_result"
    }
   ],
   "source": [
    "np_array[:, 2]"
   ]
  },
  {
   "cell_type": "markdown",
   "id": "c41aa1fe-6790-488e-b857-7058917bc1c1",
   "metadata": {},
   "source": [
    "## Boolean Indexing"
   ]
  },
  {
   "cell_type": "markdown",
   "id": "861a2ca8-1e9a-4ef9-bf95-085955243f57",
   "metadata": {},
   "source": [
    "Return all the rows where the first value is smaller than 5"
   ]
  },
  {
   "cell_type": "code",
   "execution_count": 9,
   "id": "dd32708e-ea48-4978-8ac7-afb1320795af",
   "metadata": {},
   "outputs": [
    {
     "data": {
      "text/plain": [
       "array([[1, 2, 3],\n",
       "       [4, 5, 6]])"
      ]
     },
     "execution_count": 9,
     "metadata": {},
     "output_type": "execute_result"
    }
   ],
   "source": [
    "np_array[np_array[:, 0] < 5]"
   ]
  },
  {
   "cell_type": "markdown",
   "id": "bac9a6c8-7332-4318-882d-06e25443e6af",
   "metadata": {},
   "source": [
    "## Fancy Indexing"
   ]
  },
  {
   "cell_type": "markdown",
   "id": "16897de5-da5b-4e5a-836d-552eeae8296f",
   "metadata": {},
   "source": [
    "Return the 3rd and 1st rows only."
   ]
  },
  {
   "cell_type": "code",
   "execution_count": 10,
   "id": "22925fb2-57a3-4759-83d4-038ec30943a4",
   "metadata": {},
   "outputs": [
    {
     "data": {
      "text/plain": [
       "array([[7, 8, 9],\n",
       "       [1, 2, 3]])"
      ]
     },
     "execution_count": 10,
     "metadata": {},
     "output_type": "execute_result"
    }
   ],
   "source": [
    "np_array[[2, 0]]"
   ]
  },
  {
   "cell_type": "code",
   "execution_count": null,
   "id": "a51f4151-40e2-4d30-a505-0f53930b51ed",
   "metadata": {},
   "outputs": [],
   "source": []
  }
 ],
 "metadata": {
  "kernelspec": {
   "display_name": "Python 3 (ipykernel)",
   "language": "python",
   "name": "python3"
  },
  "language_info": {
   "codemirror_mode": {
    "name": "ipython",
    "version": 3
   },
   "file_extension": ".py",
   "mimetype": "text/x-python",
   "name": "python",
   "nbconvert_exporter": "python",
   "pygments_lexer": "ipython3",
   "version": "3.9.12"
  },
  "varInspector": {
   "cols": {
    "lenName": 16,
    "lenType": 16,
    "lenVar": 40
   },
   "kernels_config": {
    "python": {
     "delete_cmd_postfix": "",
     "delete_cmd_prefix": "del ",
     "library": "var_list.py",
     "varRefreshCmd": "print(var_dic_list())"
    },
    "r": {
     "delete_cmd_postfix": ") ",
     "delete_cmd_prefix": "rm(",
     "library": "var_list.r",
     "varRefreshCmd": "cat(var_dic_list()) "
    }
   },
   "types_to_exclude": [
    "module",
    "function",
    "builtin_function_or_method",
    "instance",
    "_Feature"
   ],
   "window_display": false
  }
 },
 "nbformat": 4,
 "nbformat_minor": 5
}
