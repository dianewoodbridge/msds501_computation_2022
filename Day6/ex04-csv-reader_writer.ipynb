{
 "cells": [
  {
   "cell_type": "markdown",
   "id": "fcea274d-9b45-47df-88a5-075dd9f69633",
   "metadata": {},
   "source": [
    "Using the csv reader and writer, read data from epa_air_quality.csv and create unique_site.csv that has a header, 'site_id', and ordered unique site_ids in a .csv format."
   ]
  },
  {
   "cell_type": "code",
   "execution_count": 1,
   "id": "c714bcef-9e3f-4ab4-a231-1e888f106075",
   "metadata": {},
   "outputs": [],
   "source": [
    "import csv"
   ]
  },
  {
   "cell_type": "code",
   "execution_count": 2,
   "id": "c7691fd1-14c1-45ce-88e9-1fbedd6931c1",
   "metadata": {},
   "outputs": [],
   "source": [
    "sites = set()\n",
    "with open('../Data/epa_air_quality.csv', 'r') as input:\n",
    "    csv_obj = csv.reader(input)\n",
    "    next(csv_obj)\n",
    "    for line in csv_obj:\n",
    "        sites.add(int(line[1]))"
   ]
  },
  {
   "cell_type": "code",
   "execution_count": 3,
   "id": "ce859c6a-c647-4fe9-9329-e1c7eff47b4f",
   "metadata": {},
   "outputs": [],
   "source": [
    "with open('unique_site.csv', 'w', newline='') as output:\n",
    "    csv_obj = csv.writer(output)\n",
    "    csv_obj.writerow(['site_id'])\n",
    "    sites_list = list(sites)\n",
    "    sites_list.sort()\n",
    "    for site in sites_list:\n",
    "        csv_obj.writerow([f'{site}'])"
   ]
  },
  {
   "cell_type": "code",
   "execution_count": null,
   "id": "bc692416-1d9f-4cc7-b255-c8543e9925c5",
   "metadata": {},
   "outputs": [],
   "source": []
  }
 ],
 "metadata": {
  "kernelspec": {
   "display_name": "Python 3 (ipykernel)",
   "language": "python",
   "name": "python3"
  },
  "language_info": {
   "codemirror_mode": {
    "name": "ipython",
    "version": 3
   },
   "file_extension": ".py",
   "mimetype": "text/x-python",
   "name": "python",
   "nbconvert_exporter": "python",
   "pygments_lexer": "ipython3",
   "version": "3.9.12"
  }
 },
 "nbformat": 4,
 "nbformat_minor": 5
}
