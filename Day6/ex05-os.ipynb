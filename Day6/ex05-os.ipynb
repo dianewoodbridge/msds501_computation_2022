{
 "cells": [
  {
   "cell_type": "markdown",
   "id": "dff2038f-cae5-44cc-8ffc-8cf94d4445da",
   "metadata": {},
   "source": [
    "Using unique_site(), return the unique site list in input_file_name in data_folder\n",
    "\n",
    "Write the unique site lists in output_file_name in output_folder. If output_folder does not exist, you need to create one. This code should work regardless output_file_name exists in output_folder."
   ]
  },
  {
   "cell_type": "code",
   "execution_count": 1,
   "id": "696e03a8-abfa-4b0d-a6ee-589829ed29c8",
   "metadata": {},
   "outputs": [],
   "source": [
    "import os\n",
    "import csv"
   ]
  },
  {
   "cell_type": "code",
   "execution_count": 2,
   "id": "f87e8146-bdee-4fda-8bd3-40048016a715",
   "metadata": {},
   "outputs": [],
   "source": [
    "def unique_site(input_file):\n",
    "    sites = set()\n",
    "    with open(input_file, 'r') as input:\n",
    "        csv_obj = csv.reader(input)\n",
    "        next(csv_obj)\n",
    "        for line in csv_obj:\n",
    "            sites.add(int(line[1]))\n",
    "    sites_list = list(sites)\n",
    "    sites_list.sort()\n",
    "    return sites_list\n",
    "\n",
    "def write_sites(output_file, site_list):\n",
    "    with open(output_file, 'w', newline='') as output:\n",
    "        csv_obj = csv.writer(output)\n",
    "        csv_obj.writerow(['site_id'])\n",
    "        for site in site_list:\n",
    "            csv_obj.writerow([f'{site}'])"
   ]
  },
  {
   "cell_type": "markdown",
   "id": "0d035ff9-35f2-4d1d-8fea-b8c9ad89f6f5",
   "metadata": {},
   "source": [
    "Using unique_site(), return the unique site list in input_file_name in data_folder\n",
    "Write the unique site lists in output_file_name in output_folder. If output_folder does not exist, you need to create one. This code should work regardless output_file_name exists in output_folder."
   ]
  },
  {
   "cell_type": "code",
   "execution_count": 3,
   "id": "20c2e969-7da9-4f48-8ec5-2490d33b7b16",
   "metadata": {},
   "outputs": [],
   "source": [
    "data_folder = '../Data'\n",
    "input_file_name = 'epa_air_quality.csv'\n",
    "output_folder = 'output_folder'\n",
    "output_file_name = 'ex05_output.csv'\n",
    "input_file_path = os.path.join(data_folder,\n",
    "                               input_file_name)"
   ]
  },
  {
   "cell_type": "code",
   "execution_count": 4,
   "id": "5566819d-105a-413d-86a8-11a876b5c5e4",
   "metadata": {},
   "outputs": [
    {
     "data": {
      "text/plain": [
       "'../Data/epa_air_quality.csv'"
      ]
     },
     "execution_count": 4,
     "metadata": {},
     "output_type": "execute_result"
    }
   ],
   "source": [
    "input_file_path"
   ]
  },
  {
   "cell_type": "code",
   "execution_count": 5,
   "id": "c60bcad7-5dcc-456d-b390-8c40c6a7e810",
   "metadata": {},
   "outputs": [],
   "source": [
    "if not os.path.exists(output_folder):\n",
    "    os.mkdir(output_folder)\n",
    "output_file_path = os.path.join(output_folder,\n",
    "                                output_file_name)"
   ]
  },
  {
   "cell_type": "code",
   "execution_count": 6,
   "id": "10a8eda4-49bd-4213-afa7-6210cb485e0b",
   "metadata": {},
   "outputs": [
    {
     "data": {
      "text/plain": [
       "'output_folder'"
      ]
     },
     "execution_count": 6,
     "metadata": {},
     "output_type": "execute_result"
    }
   ],
   "source": [
    "output_folder"
   ]
  },
  {
   "cell_type": "code",
   "execution_count": 7,
   "id": "f7a45346-eca3-468e-be78-f56c78188108",
   "metadata": {},
   "outputs": [],
   "source": [
    "if os.path.exists(output_file_path):\n",
    "    os.remove(output_file_path)\n",
    "\n",
    "site_list = unique_site(input_file_path)\n",
    "write_sites(output_file_path, site_list)"
   ]
  },
  {
   "cell_type": "code",
   "execution_count": null,
   "id": "40db1bca-6b2a-4ae8-8717-a425858b2c4e",
   "metadata": {},
   "outputs": [],
   "source": []
  },
  {
   "cell_type": "code",
   "execution_count": null,
   "id": "978286f1-4259-4b0b-8e56-6375e9ba0400",
   "metadata": {},
   "outputs": [],
   "source": []
  }
 ],
 "metadata": {
  "kernelspec": {
   "display_name": "Python 3 (ipykernel)",
   "language": "python",
   "name": "python3"
  },
  "language_info": {
   "codemirror_mode": {
    "name": "ipython",
    "version": 3
   },
   "file_extension": ".py",
   "mimetype": "text/x-python",
   "name": "python",
   "nbconvert_exporter": "python",
   "pygments_lexer": "ipython3",
   "version": "3.9.12"
  }
 },
 "nbformat": 4,
 "nbformat_minor": 5
}
