{
 "cells": [
  {
   "cell_type": "markdown",
   "id": "742c3999-cf12-4c46-a736-a0d92cf1afdb",
   "metadata": {},
   "source": [
    "***\n",
    "- For the html package, see available functions and modules.\n",
    "- In the html package, see the parser function’s documentation.\n",
    "***"
   ]
  },
  {
   "cell_type": "markdown",
   "id": "65eb0669-9c68-4b0e-b989-a351b624aa3c",
   "metadata": {
    "tags": []
   },
   "source": [
    "#### Python dir() \n",
    "- Returns included functions, modules, etc.\n",
    "\n",
    "#### Python help() \n",
    "\n",
    "- Display the documentation of modules, packages, functions, classes, keywords, etc. \n",
    "\n",
    "- Useful for understanding usage, input/output and examples.\n",
    "\n",
    "#### Jupyter Lab supports auto-complete\n",
    "- If you hit tab after your module name ex. math.[tab] it shows available options."
   ]
  },
  {
   "cell_type": "code",
   "execution_count": 1,
   "id": "acaaf808-f2bf-4df4-a3ff-3b8c26d5fc0f",
   "metadata": {},
   "outputs": [],
   "source": [
    "import html"
   ]
  },
  {
   "cell_type": "code",
   "execution_count": 2,
   "id": "bdef1a5f-262b-4970-8374-614e2d24f181",
   "metadata": {},
   "outputs": [
    {
     "name": "stdout",
     "output_type": "stream",
     "text": [
      "Help on package html:\n",
      "\n",
      "NAME\n",
      "    html - General functions for HTML manipulation.\n",
      "\n",
      "MODULE REFERENCE\n",
      "    https://docs.python.org/3.9/library/html\n",
      "    \n",
      "    The following documentation is automatically generated from the Python\n",
      "    source files.  It may be incomplete, incorrect or include features that\n",
      "    are considered implementation detail and may vary between Python\n",
      "    implementations.  When in doubt, consult the module reference at the\n",
      "    location listed above.\n",
      "\n",
      "PACKAGE CONTENTS\n",
      "    entities\n",
      "    parser\n",
      "\n",
      "FUNCTIONS\n",
      "    escape(s, quote=True)\n",
      "        Replace special characters \"&\", \"<\" and \">\" to HTML-safe sequences.\n",
      "        If the optional flag quote is true (the default), the quotation mark\n",
      "        characters, both double quote (\") and single quote (') characters are also\n",
      "        translated.\n",
      "    \n",
      "    unescape(s)\n",
      "        Convert all named and numeric character references (e.g. &gt;, &#62;,\n",
      "        &x3e;) in the string s to the corresponding unicode characters.\n",
      "        This function uses the rules defined by the HTML 5 standard\n",
      "        for both valid and invalid character references, and the list of\n",
      "        HTML 5 named character references defined in html.entities.html5.\n",
      "\n",
      "DATA\n",
      "    __all__ = ['escape', 'unescape']\n",
      "\n",
      "FILE\n",
      "    /Users/dwoodbridge/opt/anaconda3/envs/Computation_Bootcamp/lib/python3.9/html/__init__.py\n",
      "\n",
      "\n"
     ]
    }
   ],
   "source": [
    "help(html)"
   ]
  },
  {
   "cell_type": "code",
   "execution_count": null,
   "id": "b6a595b6-b71c-4106-854d-064276073072",
   "metadata": {},
   "outputs": [],
   "source": []
  }
 ],
 "metadata": {
  "kernelspec": {
   "display_name": "Python 3 (ipykernel)",
   "language": "python",
   "name": "python3"
  },
  "language_info": {
   "codemirror_mode": {
    "name": "ipython",
    "version": 3
   },
   "file_extension": ".py",
   "mimetype": "text/x-python",
   "name": "python",
   "nbconvert_exporter": "python",
   "pygments_lexer": "ipython3",
   "version": "3.9.12"
  }
 },
 "nbformat": 4,
 "nbformat_minor": 5
}
