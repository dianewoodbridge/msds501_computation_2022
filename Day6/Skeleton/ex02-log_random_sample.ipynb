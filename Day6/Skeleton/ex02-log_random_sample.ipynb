{
 "cells": [
  {
   "cell_type": "markdown",
   "id": "1a4025a0-91bb-4bfa-b896-5952b995fcd3",
   "metadata": {},
   "source": [
    "From numbers between 1 and 100, retrieve 10 random samples and return \"original value, its log value\". "
   ]
  },
  {
   "cell_type": "code",
   "execution_count": 1,
   "id": "d05d5266-c1de-4f75-9cb2-5ec8b45700df",
   "metadata": {},
   "outputs": [],
   "source": [
    "nums = range(1, 101)"
   ]
  },
  {
   "cell_type": "code",
   "execution_count": 2,
   "id": "f2148081-36e9-44ce-a6b9-950ed986748d",
   "metadata": {},
   "outputs": [],
   "source": [
    "import math\n",
    "import random"
   ]
  },
  {
   "cell_type": "code",
   "execution_count": null,
   "id": "796116da-00f0-4e23-ac95-b4d72a67f044",
   "metadata": {},
   "outputs": [],
   "source": []
  }
 ],
 "metadata": {
  "kernelspec": {
   "display_name": "Python 3 (ipykernel)",
   "language": "python",
   "name": "python3"
  },
  "language_info": {
   "codemirror_mode": {
    "name": "ipython",
    "version": 3
   },
   "file_extension": ".py",
   "mimetype": "text/x-python",
   "name": "python",
   "nbconvert_exporter": "python",
   "pygments_lexer": "ipython3",
   "version": "3.9.12"
  }
 },
 "nbformat": 4,
 "nbformat_minor": 5
}
