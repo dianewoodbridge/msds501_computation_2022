{
 "cells": [
  {
   "cell_type": "markdown",
   "id": "fcea274d-9b45-47df-88a5-075dd9f69633",
   "metadata": {},
   "source": [
    "Using the csv reader and writer, read data from epa_air_quality.csv and create unique_site.csv that has a header, 'site_id', and ordered unique site_ids in a .csv format."
   ]
  },
  {
   "cell_type": "code",
   "execution_count": 1,
   "id": "c714bcef-9e3f-4ab4-a231-1e888f106075",
   "metadata": {},
   "outputs": [],
   "source": [
    "import csv"
   ]
  },
  {
   "cell_type": "code",
   "execution_count": null,
   "id": "bc692416-1d9f-4cc7-b255-c8543e9925c5",
   "metadata": {},
   "outputs": [],
   "source": []
  }
 ],
 "metadata": {
  "kernelspec": {
   "display_name": "Python 3 (ipykernel)",
   "language": "python",
   "name": "python3"
  },
  "language_info": {
   "codemirror_mode": {
    "name": "ipython",
    "version": 3
   },
   "file_extension": ".py",
   "mimetype": "text/x-python",
   "name": "python",
   "nbconvert_exporter": "python",
   "pygments_lexer": "ipython3",
   "version": "3.9.12"
  }
 },
 "nbformat": 4,
 "nbformat_minor": 5
}
