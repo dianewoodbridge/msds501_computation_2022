{
 "cells": [
  {
   "cell_type": "markdown",
   "id": "09dec0c7-3d7b-409f-8c96-7bf8c0dcd20a",
   "metadata": {
    "tags": []
   },
   "source": [
    "Create a sequence of numbers between 0 and 100.\n",
    "\n",
    "Create a pickled object and store in \"output\"\n",
    "\n",
    "Reconstruct the object by reading and unpickling \"output\""
   ]
  },
  {
   "cell_type": "markdown",
   "id": "53468a36-5fcf-4b6a-bcf0-bc5d90d87f14",
   "metadata": {
    "tags": []
   },
   "source": [
    "### Note : \n",
    "Since pickle is storing byte streams, we open file with a binary mode."
   ]
  },
  {
   "cell_type": "code",
   "execution_count": 1,
   "id": "72b234c8-a5ec-4fcd-8710-7eb17f0a5f84",
   "metadata": {},
   "outputs": [],
   "source": [
    "import pickle"
   ]
  },
  {
   "cell_type": "markdown",
   "id": "10398f82-84ac-40c9-9c4d-056639c9aaa9",
   "metadata": {
    "tags": []
   },
   "source": [
    "#### 1. Create a pickled object"
   ]
  },
  {
   "cell_type": "code",
   "execution_count": null,
   "id": "a06bb0da-6fc9-4e84-a20a-fa61e74ff8ac",
   "metadata": {},
   "outputs": [],
   "source": []
  },
  {
   "cell_type": "markdown",
   "id": "0f10ec81-2e26-47d5-b498-51f159875bf1",
   "metadata": {},
   "source": [
    "#### 2. Create a pickled object and store in file"
   ]
  },
  {
   "cell_type": "code",
   "execution_count": null,
   "id": "c60837e5-f1ae-408b-9f8b-83da2d47b293",
   "metadata": {},
   "outputs": [],
   "source": []
  },
  {
   "cell_type": "markdown",
   "id": "e66af754-4fac-48d4-a233-1a344cb338c1",
   "metadata": {},
   "source": [
    "#### 3. Load a pickled object"
   ]
  },
  {
   "cell_type": "code",
   "execution_count": null,
   "id": "f61a4a9d-6144-4d78-8244-4a66875e19cb",
   "metadata": {},
   "outputs": [],
   "source": []
  },
  {
   "cell_type": "markdown",
   "id": "d7ee6826-9a15-46d0-be6d-be5a14042fea",
   "metadata": {},
   "source": [
    "#### 4. Load a pickled object from a file"
   ]
  },
  {
   "cell_type": "code",
   "execution_count": null,
   "id": "2bd4a12f-7cf4-4d98-8f64-59cbf0b1520f",
   "metadata": {},
   "outputs": [],
   "source": []
  }
 ],
 "metadata": {
  "kernelspec": {
   "display_name": "Python 3 (ipykernel)",
   "language": "python",
   "name": "python3"
  },
  "language_info": {
   "codemirror_mode": {
    "name": "ipython",
    "version": 3
   },
   "file_extension": ".py",
   "mimetype": "text/x-python",
   "name": "python",
   "nbconvert_exporter": "python",
   "pygments_lexer": "ipython3",
   "version": "3.9.12"
  }
 },
 "nbformat": 4,
 "nbformat_minor": 5
}
