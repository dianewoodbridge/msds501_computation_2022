{
 "cells": [
  {
   "cell_type": "markdown",
   "id": "09dec0c7-3d7b-409f-8c96-7bf8c0dcd20a",
   "metadata": {
    "tags": []
   },
   "source": [
    "Create a sequence of numbers between 0 and 100.\n",
    "\n",
    "Create a pickled object and store in \"output\"\n",
    "\n",
    "Reconstruct the object by reading and unpickling \"output\""
   ]
  },
  {
   "cell_type": "markdown",
   "id": "53468a36-5fcf-4b6a-bcf0-bc5d90d87f14",
   "metadata": {
    "tags": []
   },
   "source": [
    "### Note : \n",
    "Since pickle is storing byte streams, we open file with a binary mode."
   ]
  },
  {
   "cell_type": "code",
   "execution_count": 1,
   "id": "72b234c8-a5ec-4fcd-8710-7eb17f0a5f84",
   "metadata": {},
   "outputs": [],
   "source": [
    "import pickle"
   ]
  },
  {
   "cell_type": "code",
   "execution_count": 2,
   "id": "04936cbc-81b8-46f8-9eaf-1eeeee870e72",
   "metadata": {},
   "outputs": [],
   "source": [
    "nums = range(101)\n",
    "file_name = 'output'"
   ]
  },
  {
   "cell_type": "code",
   "execution_count": 3,
   "id": "11c0b2dc-4d6e-42c3-97b1-cf6b1f3614a2",
   "metadata": {},
   "outputs": [],
   "source": [
    "file = open(file_name, 'wb')  #open in a write-binary mode"
   ]
  },
  {
   "cell_type": "markdown",
   "id": "10398f82-84ac-40c9-9c4d-056639c9aaa9",
   "metadata": {
    "tags": []
   },
   "source": [
    "#### 1. Create a pickled object"
   ]
  },
  {
   "cell_type": "code",
   "execution_count": 4,
   "id": "620320b5-486b-4d4d-9ca2-f54be3a79a77",
   "metadata": {},
   "outputs": [],
   "source": [
    "pickle_obj = pickle.dumps(nums)"
   ]
  },
  {
   "cell_type": "code",
   "execution_count": 5,
   "id": "37ed9024-681c-45c6-b8fe-8d6b50c0f3e2",
   "metadata": {},
   "outputs": [
    {
     "data": {
      "text/plain": [
       "b'\\x80\\x04\\x95 \\x00\\x00\\x00\\x00\\x00\\x00\\x00\\x8c\\x08builtins\\x94\\x8c\\x05range\\x94\\x93\\x94K\\x00KeK\\x01\\x87\\x94R\\x94.'"
      ]
     },
     "execution_count": 5,
     "metadata": {},
     "output_type": "execute_result"
    }
   ],
   "source": [
    "pickle_obj"
   ]
  },
  {
   "cell_type": "markdown",
   "id": "0f10ec81-2e26-47d5-b498-51f159875bf1",
   "metadata": {},
   "source": [
    "#### 2. Create a pickled object and store in file"
   ]
  },
  {
   "cell_type": "code",
   "execution_count": 6,
   "id": "5ceac71d-90e1-4d3c-86ac-4942a647c1bf",
   "metadata": {},
   "outputs": [],
   "source": [
    "pickle.dump(nums, file)"
   ]
  },
  {
   "cell_type": "code",
   "execution_count": 7,
   "id": "47577e42-403d-4e59-97a9-1d2729c9d55a",
   "metadata": {},
   "outputs": [],
   "source": [
    "file.close()"
   ]
  },
  {
   "cell_type": "markdown",
   "id": "e66af754-4fac-48d4-a233-1a344cb338c1",
   "metadata": {},
   "source": [
    "#### 3. Load a pickled object"
   ]
  },
  {
   "cell_type": "code",
   "execution_count": 8,
   "id": "61f4ac2b-52ab-47f1-a682-6daaee397484",
   "metadata": {},
   "outputs": [
    {
     "data": {
      "text/plain": [
       "range(0, 101)"
      ]
     },
     "execution_count": 8,
     "metadata": {},
     "output_type": "execute_result"
    }
   ],
   "source": [
    "pickle.loads(pickle_obj)"
   ]
  },
  {
   "cell_type": "markdown",
   "id": "d7ee6826-9a15-46d0-be6d-be5a14042fea",
   "metadata": {},
   "source": [
    "#### 4. Load a pickled object from a file"
   ]
  },
  {
   "cell_type": "code",
   "execution_count": 9,
   "id": "ce3731c9-a6de-4fed-bb0a-96c29be6e3e8",
   "metadata": {},
   "outputs": [
    {
     "data": {
      "text/plain": [
       "range(0, 101)"
      ]
     },
     "execution_count": 9,
     "metadata": {},
     "output_type": "execute_result"
    }
   ],
   "source": [
    "file = open(file_name,'rb') # open with read binary modes.\n",
    "pickle.load(file)"
   ]
  },
  {
   "cell_type": "code",
   "execution_count": 10,
   "id": "04c6ae8c-0a80-4e30-b674-6754a227f1ec",
   "metadata": {},
   "outputs": [],
   "source": [
    "file.close()"
   ]
  },
  {
   "cell_type": "code",
   "execution_count": null,
   "id": "2bd4a12f-7cf4-4d98-8f64-59cbf0b1520f",
   "metadata": {},
   "outputs": [],
   "source": []
  }
 ],
 "metadata": {
  "kernelspec": {
   "display_name": "Python 3 (ipykernel)",
   "language": "python",
   "name": "python3"
  },
  "language_info": {
   "codemirror_mode": {
    "name": "ipython",
    "version": 3
   },
   "file_extension": ".py",
   "mimetype": "text/x-python",
   "name": "python",
   "nbconvert_exporter": "python",
   "pygments_lexer": "ipython3",
   "version": "3.9.12"
  }
 },
 "nbformat": 4,
 "nbformat_minor": 5
}
