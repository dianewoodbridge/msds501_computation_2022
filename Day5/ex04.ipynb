{
 "cells": [
  {
   "cell_type": "markdown",
   "id": "608c285e-a899-4488-a67a-155b7004bfd2",
   "metadata": {},
   "source": [
    "# Given a list of movie titles, how many are 3-words long?\n",
    "titles = [\"A Soldier's Story\", 'Places in the Heart', 'The Killing Fields',\n",
    "          'A Passage to India', 'Amadeus', \"Prizzi's Honor\",\n",
    "          'Kiss of the Spider Woman', 'Witness', 'The Color Purple',\n",
    "          'Out of Africa']"
   ]
  },
  {
   "cell_type": "code",
   "execution_count": 2,
   "id": "6b909c13-6066-4af8-9abe-0cd24f851217",
   "metadata": {},
   "outputs": [],
   "source": [
    "titles = [\"A Soldier's Story\", 'Places in the Heart', 'The Killing Fields',\n",
    "          'A Passage to India', 'Amadeus', \"Prizzi's Honor\",\n",
    "          'Kiss of the Spider Woman', 'Witness', 'The Color Purple',\n",
    "          'Out of Africa']"
   ]
  },
  {
   "cell_type": "code",
   "execution_count": 3,
   "id": "20c859c0-2375-4829-ac42-8c64921a9fad",
   "metadata": {},
   "outputs": [],
   "source": [
    "ct = 0\n",
    "for title in titles:\n",
    "    if len(title.split()) == 3:\n",
    "        ct += 1"
   ]
  },
  {
   "cell_type": "code",
   "execution_count": 4,
   "id": "7b241a58-749a-4370-acfd-543a0f757b97",
   "metadata": {},
   "outputs": [
    {
     "data": {
      "text/plain": [
       "4"
      ]
     },
     "execution_count": 4,
     "metadata": {},
     "output_type": "execute_result"
    }
   ],
   "source": [
    "ct"
   ]
  },
  {
   "cell_type": "code",
   "execution_count": 6,
   "id": "5c35f9cf-6d65-458c-84af-a53dbe54331b",
   "metadata": {},
   "outputs": [
    {
     "data": {
      "text/plain": [
       "4"
      ]
     },
     "execution_count": 6,
     "metadata": {},
     "output_type": "execute_result"
    }
   ],
   "source": [
    "len([title for title in titles if len(title.split()) == 3])"
   ]
  },
  {
   "cell_type": "code",
   "execution_count": null,
   "id": "45e95459-fbd2-4285-80c9-b47d5139231c",
   "metadata": {},
   "outputs": [],
   "source": []
  }
 ],
 "metadata": {
  "kernelspec": {
   "display_name": "Python 3 (ipykernel)",
   "language": "python",
   "name": "python3"
  },
  "language_info": {
   "codemirror_mode": {
    "name": "ipython",
    "version": 3
   },
   "file_extension": ".py",
   "mimetype": "text/x-python",
   "name": "python",
   "nbconvert_exporter": "python",
   "pygments_lexer": "ipython3",
   "version": "3.9.12"
  }
 },
 "nbformat": 4,
 "nbformat_minor": 5
}
