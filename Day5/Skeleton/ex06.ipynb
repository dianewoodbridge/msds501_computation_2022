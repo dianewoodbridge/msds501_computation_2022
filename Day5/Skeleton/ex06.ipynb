{
 "cells": [
  {
   "cell_type": "markdown",
   "id": "b9ef62c7-4534-4661-af5b-7ce6f66da4e2",
   "metadata": {},
   "source": [
    "Roman numerals are represented by seven different symbols: I, V, X, L, C, D and M.\n",
    "\n",
    "<b> Symbol   :    Value <\\b>\n",
    "\n",
    "I        :     1\n",
    "\n",
    "V        :    5\n",
    "\n",
    "X        :    10\n",
    "\n",
    "L        :    50\n",
    "\n",
    "C        :    100\n",
    "\n",
    "D        :    500\n",
    "\n",
    "M        :    1000\n",
    "\n",
    "\n",
    "For example, 2 is written as II in Roman numeral, just two ones added together. 12 is written as XII, which is simply X + II. The number 27 is written as XXVII, which is XX + V + II.\n",
    "\n",
    "Roman numerals are usually written largest to smallest from left to right. However, the numeral for four is not IIII. Instead, the number four is written as IV. Because the one is before the five we subtract it making four. The same principle applies to the number nine, which is written as IX. There are six instances where subtraction is used:\n",
    "\n",
    "- I can be placed before V (5) and X (10) to make 4 and 9. \n",
    "- X can be placed before L (50) and C (100) to make 40 and 90. \n",
    "- C can be placed before D (500) and M (1000) to make 400 and 900.\n",
    "\n",
    "Create a function to convert it to an integer, given a roman numeral."
   ]
  },
  {
   "cell_type": "code",
   "execution_count": 1,
   "id": "86660c07-617c-4af1-8c4c-2c67b788ec48",
   "metadata": {},
   "outputs": [],
   "source": [
    "s = \"III\" #3\n",
    "s = \"MCMXCIV\" #1994"
   ]
  },
  {
   "cell_type": "code",
   "execution_count": 2,
   "id": "65026d06-f4ad-49e6-99a2-e32c596eb07a",
   "metadata": {},
   "outputs": [],
   "source": [
    "def roman_numbers(s):\n",
    "    "
   ]
  },
  {
   "cell_type": "code",
   "execution_count": null,
   "id": "72452d34-f4e0-4cd0-b0d7-da3b6dc8bb13",
   "metadata": {},
   "outputs": [],
   "source": []
  }
 ],
 "metadata": {
  "kernelspec": {
   "display_name": "Python 3 (ipykernel)",
   "language": "python",
   "name": "python3"
  },
  "language_info": {
   "codemirror_mode": {
    "name": "ipython",
    "version": 3
   },
   "file_extension": ".py",
   "mimetype": "text/x-python",
   "name": "python",
   "nbconvert_exporter": "python",
   "pygments_lexer": "ipython3",
   "version": "3.9.12"
  }
 },
 "nbformat": 4,
 "nbformat_minor": 5
}
