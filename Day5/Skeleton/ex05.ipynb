{
 "cells": [
  {
   "cell_type": "markdown",
   "id": "f70fcee4-bc72-4d40-bde5-c0a6a0a01aae",
   "metadata": {},
   "source": [
    "\n",
    "Given an array of integers nums and an integer target, create a function that returns indices of the two numbers such that they add up to target.\n",
    "\n",
    "You may assume that each input would have exactly one solution, and you may not use the same element twice."
   ]
  },
  {
   "cell_type": "code",
   "execution_count": 1,
   "id": "665c1e6d-eef0-470a-a4e3-bb469da927a9",
   "metadata": {},
   "outputs": [],
   "source": [
    "nums = [2,7,11,15]\n",
    "target = 18"
   ]
  },
  {
   "cell_type": "code",
   "execution_count": 4,
   "id": "6a69d265-e094-4bb8-aa35-7e0bbce29871",
   "metadata": {},
   "outputs": [],
   "source": [
    "def two_sum(nums, target):\n",
    "    "
   ]
  },
  {
   "cell_type": "code",
   "execution_count": null,
   "id": "719e225a-7174-41ba-bd80-d5476b89b567",
   "metadata": {},
   "outputs": [],
   "source": []
  }
 ],
 "metadata": {
  "kernelspec": {
   "display_name": "Python 3 (ipykernel)",
   "language": "python",
   "name": "python3"
  },
  "language_info": {
   "codemirror_mode": {
    "name": "ipython",
    "version": 3
   },
   "file_extension": ".py",
   "mimetype": "text/x-python",
   "name": "python",
   "nbconvert_exporter": "python",
   "pygments_lexer": "ipython3",
   "version": "3.9.12"
  }
 },
 "nbformat": 4,
 "nbformat_minor": 5
}
