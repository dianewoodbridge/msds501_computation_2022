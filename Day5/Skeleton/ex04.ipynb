{
 "cells": [
  {
   "cell_type": "markdown",
   "id": "608c285e-a899-4488-a67a-155b7004bfd2",
   "metadata": {},
   "source": [
    "# Given a list of movie titles, how many are 3-words long?\n",
    "titles = [\"A Soldier's Story\", 'Places in the Heart', 'The Killing Fields',\n",
    "          'A Passage to India', 'Amadeus', \"Prizzi's Honor\",\n",
    "          'Kiss of the Spider Woman', 'Witness', 'The Color Purple',\n",
    "          'Out of Africa']"
   ]
  },
  {
   "cell_type": "code",
   "execution_count": 2,
   "id": "6b909c13-6066-4af8-9abe-0cd24f851217",
   "metadata": {},
   "outputs": [],
   "source": [
    "titles = [\"A Soldier's Story\", 'Places in the Heart', 'The Killing Fields',\n",
    "          'A Passage to India', 'Amadeus', \"Prizzi's Honor\",\n",
    "          'Kiss of the Spider Woman', 'Witness', 'The Color Purple',\n",
    "          'Out of Africa']"
   ]
  },
  {
   "cell_type": "code",
   "execution_count": null,
   "id": "45e95459-fbd2-4285-80c9-b47d5139231c",
   "metadata": {},
   "outputs": [],
   "source": []
  }
 ],
 "metadata": {
  "kernelspec": {
   "display_name": "Python 3 (ipykernel)",
   "language": "python",
   "name": "python3"
  },
  "language_info": {
   "codemirror_mode": {
    "name": "ipython",
    "version": 3
   },
   "file_extension": ".py",
   "mimetype": "text/x-python",
   "name": "python",
   "nbconvert_exporter": "python",
   "pygments_lexer": "ipython3",
   "version": "3.9.12"
  }
 },
 "nbformat": 4,
 "nbformat_minor": 5
}
