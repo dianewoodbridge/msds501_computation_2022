{
 "cells": [
  {
   "cell_type": "markdown",
   "id": "466fe748-e17e-4c51-b1f9-c9d4174a2a4f",
   "metadata": {},
   "source": [
    "# Given a list of names, get a list of string lengths called name_len; \n",
    "names = ['Xue', 'Mary', 'Robert']"
   ]
  },
  {
   "cell_type": "code",
   "execution_count": 1,
   "id": "37003f7b-b411-45eb-990e-ccedb28543fe",
   "metadata": {},
   "outputs": [],
   "source": [
    "names = ['Xue', 'Mary', 'Robert']"
   ]
  },
  {
   "cell_type": "code",
   "execution_count": null,
   "id": "f8c7e9ea-534a-4e6d-b300-c31f13aaf382",
   "metadata": {},
   "outputs": [],
   "source": []
  }
 ],
 "metadata": {
  "kernelspec": {
   "display_name": "Python 3 (ipykernel)",
   "language": "python",
   "name": "python3"
  },
  "language_info": {
   "codemirror_mode": {
    "name": "ipython",
    "version": 3
   },
   "file_extension": ".py",
   "mimetype": "text/x-python",
   "name": "python",
   "nbconvert_exporter": "python",
   "pygments_lexer": "ipython3",
   "version": "3.9.12"
  }
 },
 "nbformat": 4,
 "nbformat_minor": 5
}
