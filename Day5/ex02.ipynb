{
 "cells": [
  {
   "cell_type": "markdown",
   "id": "617ae260-4ba1-49af-b8fa-c6f06fb2f40b",
   "metadata": {},
   "source": [
    "# Given a list of prices, get a list of prices greater than $100\n",
    "\n",
    "prices = [38.94, 208.16, 8.69, 195.99]"
   ]
  },
  {
   "cell_type": "code",
   "execution_count": 1,
   "id": "050ba7d0-157c-4d3a-92df-7dc72ff7ca7c",
   "metadata": {},
   "outputs": [],
   "source": [
    "prices = [38.94, 208.16, 8.69, 195.99]"
   ]
  },
  {
   "cell_type": "code",
   "execution_count": 2,
   "id": "1349a647-5cd4-40a5-9664-67e291246472",
   "metadata": {},
   "outputs": [
    {
     "data": {
      "text/plain": [
       "[208.16, 195.99]"
      ]
     },
     "execution_count": 2,
     "metadata": {},
     "output_type": "execute_result"
    }
   ],
   "source": [
    "[x for x in prices if x > 100]"
   ]
  },
  {
   "cell_type": "code",
   "execution_count": null,
   "id": "391d3406-8689-406b-8d7b-b5611a78a4a2",
   "metadata": {},
   "outputs": [],
   "source": []
  }
 ],
 "metadata": {
  "kernelspec": {
   "display_name": "Python 3 (ipykernel)",
   "language": "python",
   "name": "python3"
  },
  "language_info": {
   "codemirror_mode": {
    "name": "ipython",
    "version": 3
   },
   "file_extension": ".py",
   "mimetype": "text/x-python",
   "name": "python",
   "nbconvert_exporter": "python",
   "pygments_lexer": "ipython3",
   "version": "3.9.12"
  }
 },
 "nbformat": 4,
 "nbformat_minor": 5
}
