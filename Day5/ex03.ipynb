{
 "cells": [
  {
   "cell_type": "markdown",
   "id": "65f180e5-cd7e-4ef4-b991-45896012f7dd",
   "metadata": {},
   "source": [
    "# Given a list of prices, double any price less than $10\n",
    "prices = [38.94, 208.16, 8.69, 195.99]"
   ]
  },
  {
   "cell_type": "code",
   "execution_count": 1,
   "id": "98e61f6d-7c8f-4820-815f-4f0808424764",
   "metadata": {},
   "outputs": [],
   "source": [
    "prices = [38.94, 208.16, 8.69, 195.99]"
   ]
  },
  {
   "cell_type": "code",
   "execution_count": 2,
   "id": "06529792-8860-4d02-a712-1c12ac6194d1",
   "metadata": {},
   "outputs": [
    {
     "data": {
      "text/plain": [
       "[17.38]"
      ]
     },
     "execution_count": 2,
     "metadata": {},
     "output_type": "execute_result"
    }
   ],
   "source": [
    "[2* price for price in prices if price < 10]"
   ]
  },
  {
   "cell_type": "code",
   "execution_count": null,
   "id": "69b81219-9224-4950-8851-4b3786f0919d",
   "metadata": {},
   "outputs": [],
   "source": []
  }
 ],
 "metadata": {
  "kernelspec": {
   "display_name": "Python 3 (ipykernel)",
   "language": "python",
   "name": "python3"
  },
  "language_info": {
   "codemirror_mode": {
    "name": "ipython",
    "version": 3
   },
   "file_extension": ".py",
   "mimetype": "text/x-python",
   "name": "python",
   "nbconvert_exporter": "python",
   "pygments_lexer": "ipython3",
   "version": "3.9.12"
  }
 },
 "nbformat": 4,
 "nbformat_minor": 5
}
