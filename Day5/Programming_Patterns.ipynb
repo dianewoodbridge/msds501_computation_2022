{
 "cells": [
  {
   "cell_type": "markdown",
   "id": "358199cc-9203-44e4-80aa-5698e9486af5",
   "metadata": {},
   "source": [
    "# Accumulate"
   ]
  },
  {
   "cell_type": "markdown",
   "id": "06553403-6020-4d97-a12e-a85896998106",
   "metadata": {},
   "source": [
    "Calcaulte the sum of \"quantity\""
   ]
  },
  {
   "cell_type": "code",
   "execution_count": 1,
   "id": "1c130493-2153-4c7b-93c6-dcb2e3a0841d",
   "metadata": {},
   "outputs": [
    {
     "name": "stdout",
     "output_type": "stream",
     "text": [
      "207\n"
     ]
    }
   ],
   "source": [
    "quantity = [6, 49, 27, 30, 19, 21, 12, 22, 21] \n",
    "sum = 0\n",
    "for q in quantity:\n",
    "    sum += q          # same as: sum = sum + q\n",
    "print(sum)"
   ]
  },
  {
   "cell_type": "markdown",
   "id": "9ff25a43-3ced-4afa-a7ed-7166cbd79919",
   "metadata": {},
   "source": [
    "# Map"
   ]
  },
  {
   "cell_type": "markdown",
   "id": "e55a244e-f388-49e4-8f70-62bc1dba5bfe",
   "metadata": {},
   "source": [
    "Return 95% of values in unit_price upto 2 decimal places"
   ]
  },
  {
   "cell_type": "code",
   "execution_count": 18,
   "id": "bd00d5f9-d699-4ef0-bb17-18d0b81ee52b",
   "metadata": {},
   "outputs": [],
   "source": [
    "unit_price = [38.94, 208.16, 8.69, 195.99]\n",
    "discounted = list() # empty list\n",
    "for price in UnitPrice:\n",
    "    discounted.append(round(price * 0.95, 2))\n",
    "\n",
    "# list comprehension shines here!!\n",
    "discounted = [round(p*0.95, 2) for p in unit_price]"
   ]
  },
  {
   "cell_type": "code",
   "execution_count": 19,
   "id": "cb1ce31b-8dae-4d29-b0b9-32f1085fdb5f",
   "metadata": {},
   "outputs": [
    {
     "data": {
      "text/plain": [
       "[36.99, 197.75, 8.26, 186.19]"
      ]
     },
     "execution_count": 19,
     "metadata": {},
     "output_type": "execute_result"
    }
   ],
   "source": [
    "discounted"
   ]
  },
  {
   "cell_type": "markdown",
   "id": "1e3c5d25-2a56-486d-9201-f14e459dbdc4",
   "metadata": {},
   "source": [
    "# Combine"
   ]
  },
  {
   "cell_type": "markdown",
   "id": "a6754207-dbd1-4092-a3aa-c0700379d5d0",
   "metadata": {},
   "source": [
    "Multiply the i-th elements in quantity and unit_price."
   ]
  },
  {
   "cell_type": "code",
   "execution_count": 20,
   "id": "ba268c14-586e-47cd-970e-b933aa40713b",
   "metadata": {},
   "outputs": [],
   "source": [
    "quantity = [6, 49, 27, 30]\n",
    "unit_price = [38.94, 208.16, 8.69, 195.99]\n",
    "\n",
    "cost = []\n",
    "for i in range(len(quantity)):\n",
    "    cost.append( round(quantity[i] * unit_price[i], 2) )\n",
    "\n",
    "cost = [round(quantity[i] * unit_price[i], 2) for i in range(len(quantity))]"
   ]
  },
  {
   "cell_type": "code",
   "execution_count": 21,
   "id": "d252b3b8-9eb7-426e-b287-4694ef4b288c",
   "metadata": {},
   "outputs": [
    {
     "data": {
      "text/plain": [
       "[233.64, 10199.84, 234.63, 5879.7]"
      ]
     },
     "execution_count": 21,
     "metadata": {},
     "output_type": "execute_result"
    }
   ],
   "source": [
    "cost"
   ]
  },
  {
   "cell_type": "markdown",
   "id": "a613738e-4d00-4a5a-96c9-e89a1a911dba",
   "metadata": {
    "tags": []
   },
   "source": [
    "# Split"
   ]
  },
  {
   "cell_type": "markdown",
   "id": "c9289bb9-4822-458e-80ff-fe8919f04742",
   "metadata": {},
   "source": [
    "Split list of full names into their first and last names"
   ]
  },
  {
   "cell_type": "code",
   "execution_count": 23,
   "id": "649b3859-74d8-4c44-bd4e-e8019d00707c",
   "metadata": {},
   "outputs": [],
   "source": [
    "names = ['Terence Parr', 'Diane Woodbridge', 'Yannet Interian']\n",
    "first = []\n",
    "last = []\n",
    "for name in names:\n",
    "    f,l = name.split()\n",
    "    first.append(f)\n",
    "    last.append(l)"
   ]
  },
  {
   "cell_type": "code",
   "execution_count": 24,
   "id": "33f5287f-b169-4207-9962-f21800d41f31",
   "metadata": {},
   "outputs": [
    {
     "data": {
      "text/plain": [
       "['Terence', 'Diane', 'Yannet']"
      ]
     },
     "execution_count": 24,
     "metadata": {},
     "output_type": "execute_result"
    }
   ],
   "source": [
    "first"
   ]
  },
  {
   "cell_type": "code",
   "execution_count": 25,
   "id": "b8dfc1e7-679c-4595-a6f2-19a4fa8b35ff",
   "metadata": {},
   "outputs": [
    {
     "data": {
      "text/plain": [
       "['Parr', 'Woodbridge', 'Interian']"
      ]
     },
     "execution_count": 25,
     "metadata": {},
     "output_type": "execute_result"
    }
   ],
   "source": [
    "last"
   ]
  },
  {
   "cell_type": "markdown",
   "id": "55c909c8-a8df-4862-a826-237ae714fb37",
   "metadata": {},
   "source": [
    "# Slicing"
   ]
  },
  {
   "cell_type": "markdown",
   "id": "d5ed773b-aaf6-4a8d-b8e5-04a032953828",
   "metadata": {},
   "source": [
    "Return an element(s) in names using index"
   ]
  },
  {
   "cell_type": "code",
   "execution_count": 29,
   "id": "70c64caa-0bfe-4aca-bb97-f93316842bf6",
   "metadata": {},
   "outputs": [
    {
     "name": "stdout",
     "output_type": "stream",
     "text": [
      "['Xue']\n",
      "['Xue', 'Mary']\n",
      "['Xue', 'Mary', 'Bob']\n",
      "['Bob']\n",
      "['Mary', 'Bob']\n",
      "Bob\n",
      "['Mary', 'Bob']\n"
     ]
    }
   ],
   "source": [
    "names=['Xue', 'Mary', 'Bob']\n",
    "print(names[0:1])\n",
    "print(names[0:2])\n",
    "print(names[0:3])\n",
    "print(names[2:3])\n",
    "print(names[1:])\n",
    "print(names[-1])\n",
    "print(names[-2:])"
   ]
  },
  {
   "cell_type": "markdown",
   "id": "ab882186-2989-431a-9992-2edd98a26486",
   "metadata": {},
   "source": [
    "# Filter"
   ]
  },
  {
   "cell_type": "markdown",
   "id": "df0f75a2-5158-4761-9d78-44ef554ad782",
   "metadata": {},
   "source": [
    "Return elements which is smaller than 10 in shipping "
   ]
  },
  {
   "cell_type": "code",
   "execution_count": 35,
   "id": "066cff7d-1f00-48f6-90d5-866916957d6b",
   "metadata": {},
   "outputs": [],
   "source": [
    "shipping = [35, 68.02, 2.99, 3.99, 5.94, 4.95, 7.72, 6.22]\n",
    "affordable_shipping = []\n",
    "for x in shipping:\n",
    "    if x < 10:\n",
    "        affordable_shipping.append(x)\n",
    "\n",
    "affordable_shipping = [x for x in shipping if x < 10] # much easier"
   ]
  },
  {
   "cell_type": "code",
   "execution_count": 36,
   "id": "191578db-9e51-4243-be47-b9f40ae65c18",
   "metadata": {},
   "outputs": [
    {
     "data": {
      "text/plain": [
       "[2.99, 3.99, 5.94, 4.95, 7.72, 6.22]"
      ]
     },
     "execution_count": 36,
     "metadata": {},
     "output_type": "execute_result"
    }
   ],
   "source": [
    "affordable_shipping"
   ]
  },
  {
   "cell_type": "markdown",
   "id": "61e670f7-5687-4498-958a-320e07d6aa05",
   "metadata": {},
   "source": [
    "Return elements in oscars where the 3rd element is 1"
   ]
  },
  {
   "cell_type": "code",
   "execution_count": 37,
   "id": "ca6ba262-cb43-446c-bcfd-6648dfa32d38",
   "metadata": {},
   "outputs": [
    {
     "name": "stdout",
     "output_type": "stream",
     "text": [
      "[[1984, 'Amadeus', 1], [1985, 'Out of Africa', 1]]\n"
     ]
    }
   ],
   "source": [
    "oscars = [\n",
    "    [1984, \"A Soldier's Story\", 0],\n",
    "    [1984, 'Places in the Heart', 0],\n",
    "    [1984, 'The Killing Fields', 0],\n",
    "    [1984, 'A Passage to India', 0],\n",
    "    [1984, 'Amadeus', 1],\n",
    "    [1985, \"Prizzi's Honor\", 0],\n",
    "    [1985, 'Kiss of the Spider Woman', 0],\n",
    "    [1985, 'Witness', 0],\n",
    "    [1985, 'The Color Purple', 0],\n",
    "    [1985, 'Out of Africa', 1]\n",
    "]\n",
    "print([movie for movie in oscars if movie[2]==1])"
   ]
  },
  {
   "cell_type": "markdown",
   "id": "2915429c-629d-4672-b742-a2656494c01e",
   "metadata": {
    "tags": []
   },
   "source": [
    "# Search"
   ]
  },
  {
   "cell_type": "markdown",
   "id": "5c6f1315-b32e-4aa7-a889-ad6724dc7b65",
   "metadata": {},
   "source": [
    "Return the index value in first where the value is equal to the target value."
   ]
  },
  {
   "cell_type": "code",
   "execution_count": 41,
   "id": "d180538c-a9bf-4015-bad7-9824e12ef0f9",
   "metadata": {},
   "outputs": [
    {
     "name": "stdout",
     "output_type": "stream",
     "text": [
      "1\n"
     ]
    }
   ],
   "source": [
    "first=['Xue', 'Mary', 'Robert']     # our given input\n",
    "target = 'Mary'                     # searching for Mary\n",
    "index = -1\n",
    "for i in range(len(first)):         # i is in range [0..n-1] or [0..n)\n",
    "    if first[i]==target:\n",
    "        index = i\n",
    "        break\n",
    "print(index)"
   ]
  },
  {
   "cell_type": "code",
   "execution_count": 42,
   "id": "855ac87d-50b1-4d63-8783-730582cd5c67",
   "metadata": {},
   "outputs": [
    {
     "data": {
      "text/plain": [
       "1"
      ]
     },
     "execution_count": 42,
     "metadata": {},
     "output_type": "execute_result"
    }
   ],
   "source": [
    "first.index(target) # Equivalent to the above"
   ]
  },
  {
   "cell_type": "markdown",
   "id": "0a9b3730-8a60-4679-8e96-79cd5c1cd622",
   "metadata": {
    "tags": []
   },
   "source": [
    "# Grid/matrix processing"
   ]
  },
  {
   "cell_type": "code",
   "execution_count": 46,
   "id": "d7f6f5b8-94e5-45b2-aaf1-01b2bd7bb56f",
   "metadata": {},
   "outputs": [
    {
     "name": "stdout",
     "output_type": "stream",
     "text": [
      "0 0\n",
      "0 1\n",
      "0 2\n",
      "1 0\n",
      "1 1\n",
      "1 2\n",
      "2 0\n",
      "2 1\n",
      "2 2\n",
      "===\n",
      "0 0\n",
      "1 0\n",
      "2 0\n",
      "0 1\n",
      "1 1\n",
      "2 1\n",
      "0 2\n",
      "1 2\n",
      "2 2\n"
     ]
    }
   ],
   "source": [
    "nrows = 3\n",
    "ncols = 3\n",
    "# column j value varies more quickly than the row i value\n",
    "for i in range(nrows):\n",
    "    for j in range(ncols):\n",
    "        print( i, j )\n",
    "\n",
    "print(\"===\")\n",
    "# row i value varies more quickly than j\n",
    "for j in range(ncols):\n",
    "    for i in range(nrows):\n",
    "        print( i, j )"
   ]
  },
  {
   "cell_type": "code",
   "execution_count": null,
   "id": "e246ffda-7f46-4249-aba1-f1a6963c1a07",
   "metadata": {},
   "outputs": [],
   "source": []
  }
 ],
 "metadata": {
  "kernelspec": {
   "display_name": "Python 3 (ipykernel)",
   "language": "python",
   "name": "python3"
  },
  "language_info": {
   "codemirror_mode": {
    "name": "ipython",
    "version": 3
   },
   "file_extension": ".py",
   "mimetype": "text/x-python",
   "name": "python",
   "nbconvert_exporter": "python",
   "pygments_lexer": "ipython3",
   "version": "3.9.12"
  }
 },
 "nbformat": 4,
 "nbformat_minor": 5
}
