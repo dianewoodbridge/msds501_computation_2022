{
 "cells": [
  {
   "cell_type": "code",
   "execution_count": 7,
   "id": "3a38e986-810e-45a5-b90d-9eddd335b74d",
   "metadata": {},
   "outputs": [],
   "source": [
    "def ten_percent_increase(f):\n",
    "    def multiply(*arg):\n",
    "        print(f'ten_percent_increase from original : {arg[0]}')\n",
    "        return f(arg[0]) * 1.10\n",
    "    return multiply"
   ]
  },
  {
   "cell_type": "code",
   "execution_count": 8,
   "id": "3a3ee48a-f5a3-43e8-a117-d1cb0ecc0bbb",
   "metadata": {},
   "outputs": [],
   "source": [
    "def twenty_percent_increase(f):\n",
    "    def multiply(*arg):\n",
    "        print(f'twenty_percent_increase from original : {arg[0]}')\n",
    "        return f(arg[0]) * 1.20\n",
    "    return multiply"
   ]
  },
  {
   "cell_type": "code",
   "execution_count": 11,
   "id": "51b2453d-5f9e-4dfe-ac3d-a66d4685fe28",
   "metadata": {},
   "outputs": [],
   "source": [
    "#@ten_percent_increase\n",
    "@twenty_percent_increase\n",
    "def return_wage(val):\n",
    "    return float(val)"
   ]
  },
  {
   "cell_type": "code",
   "execution_count": 12,
   "id": "be3f0d3a-8bf7-4f1b-ac56-709085a5ea20",
   "metadata": {},
   "outputs": [
    {
     "name": "stdout",
     "output_type": "stream",
     "text": [
      "ten_percent_increase from original : 100\n",
      "twenty_percent_increase from original : 100\n"
     ]
    },
    {
     "data": {
      "text/plain": [
       "132.0"
      ]
     },
     "execution_count": 12,
     "metadata": {},
     "output_type": "execute_result"
    }
   ],
   "source": [
    "return_wage('100')"
   ]
  },
  {
   "cell_type": "code",
   "execution_count": null,
   "id": "5fcdad23-4741-414e-a4c6-e9022233a3d1",
   "metadata": {},
   "outputs": [],
   "source": []
  }
 ],
 "metadata": {
  "kernelspec": {
   "display_name": "Python 3 (ipykernel)",
   "language": "python",
   "name": "python3"
  },
  "language_info": {
   "codemirror_mode": {
    "name": "ipython",
    "version": 3
   },
   "file_extension": ".py",
   "mimetype": "text/x-python",
   "name": "python",
   "nbconvert_exporter": "python",
   "pygments_lexer": "ipython3",
   "version": "3.9.12"
  }
 },
 "nbformat": 4,
 "nbformat_minor": 5
}
