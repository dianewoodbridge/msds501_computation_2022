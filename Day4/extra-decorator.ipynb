{
 "cells": [
  {
   "cell_type": "markdown",
   "id": "e1719afb-5f4f-4e24-b56f-9cde1985050e",
   "metadata": {},
   "source": [
    "# Multiple Decorators (Extra, Advanced)\n",
    "If you want to use multiple decorators, you'd need to use \"@wraps\" decorator within your decorator function"
   ]
  },
  {
   "cell_type": "code",
   "execution_count": 1,
   "id": "628afe86-2a17-47ee-b0e3-b557454a5d8c",
   "metadata": {},
   "outputs": [],
   "source": [
    "from functools import wraps"
   ]
  },
  {
   "cell_type": "code",
   "execution_count": 2,
   "id": "b7f7a7c0-9b0f-406d-9d6c-30f567275b82",
   "metadata": {},
   "outputs": [],
   "source": [
    "def ten_percent_increase(f):\n",
    "    @wraps(f)\n",
    "    def wrapper(*arg):\n",
    "        return f(float(arg[0]) * 1.10)\n",
    "        \n",
    "    return wrapper"
   ]
  },
  {
   "cell_type": "code",
   "execution_count": 3,
   "id": "7087d890-e0c1-4802-b229-51bd03a85153",
   "metadata": {},
   "outputs": [],
   "source": [
    "def twenty_percent_increase(f):\n",
    "    @wraps(f)\n",
    "    def wrapper(*arg):\n",
    "        return f(float(arg[0]) * 1.20)\n",
    "    return wrapper"
   ]
  },
  {
   "cell_type": "code",
   "execution_count": 4,
   "id": "aa0968c1-cc2c-4988-9a28-e3198cbfee44",
   "metadata": {},
   "outputs": [
    {
     "data": {
      "text/plain": [
       "11.0"
      ]
     },
     "execution_count": 4,
     "metadata": {},
     "output_type": "execute_result"
    }
   ],
   "source": [
    "@ten_percent_increase\n",
    "def return_wage(val):\n",
    "    return float(val)\n",
    "\n",
    "return_wage(10)"
   ]
  },
  {
   "cell_type": "code",
   "execution_count": 5,
   "id": "7286c279-6d1c-4ecc-8439-711bb72443de",
   "metadata": {},
   "outputs": [
    {
     "data": {
      "text/plain": [
       "12.0"
      ]
     },
     "execution_count": 5,
     "metadata": {},
     "output_type": "execute_result"
    }
   ],
   "source": [
    "@twenty_percent_increase\n",
    "def return_wage(val):\n",
    "    return float(val)\n",
    "\n",
    "return_wage(10)"
   ]
  },
  {
   "cell_type": "code",
   "execution_count": 6,
   "id": "a8aa3977-9fb7-4a27-bc98-5d200ae23aec",
   "metadata": {},
   "outputs": [
    {
     "data": {
      "text/plain": [
       "13.2"
      ]
     },
     "execution_count": 6,
     "metadata": {},
     "output_type": "execute_result"
    }
   ],
   "source": [
    "@ten_percent_increase\n",
    "@twenty_percent_increase\n",
    "def return_wage(val):\n",
    "    return float(val)\n",
    "\n",
    "return_wage(10)"
   ]
  },
  {
   "cell_type": "code",
   "execution_count": null,
   "id": "5baa033b-8d0a-4b85-bf88-df7df8c944ea",
   "metadata": {},
   "outputs": [],
   "source": []
  }
 ],
 "metadata": {
  "kernelspec": {
   "display_name": "Python 3 (ipykernel)",
   "language": "python",
   "name": "python3"
  },
  "language_info": {
   "codemirror_mode": {
    "name": "ipython",
    "version": 3
   },
   "file_extension": ".py",
   "mimetype": "text/x-python",
   "name": "python",
   "nbconvert_exporter": "python",
   "pygments_lexer": "ipython3",
   "version": "3.9.12"
  }
 },
 "nbformat": 4,
 "nbformat_minor": 5
}
