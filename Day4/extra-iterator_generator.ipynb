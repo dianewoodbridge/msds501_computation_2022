{
 "cells": [
  {
   "cell_type": "markdown",
   "id": "01fa9f8f-b8bc-4d2f-9717-03511c9d1dfa",
   "metadata": {
    "tags": []
   },
   "source": [
    "# Iterator and Generator"
   ]
  },
  {
   "cell_type": "markdown",
   "id": "19d4ed9a-8b8f-482c-ae65-28048e1ce7dd",
   "metadata": {},
   "source": [
    "### Iterator : An iterator is an object that can be iterated upon - you can traverse through all the values.\n",
    "\n",
    "It is used to iterate over iterable objects like list, tuples, sets, etc.\n",
    "\n",
    "This contains iter() and next() methods.\n"
   ]
  },
  {
   "cell_type": "code",
   "execution_count": 1,
   "id": "6c9bb567-9480-4385-a6cd-78fbae441cae",
   "metadata": {},
   "outputs": [],
   "source": [
    "items = [1,2,3,4]"
   ]
  },
  {
   "cell_type": "code",
   "execution_count": 2,
   "id": "f2d39df0-b980-41b3-b3ec-9ec448c75acb",
   "metadata": {},
   "outputs": [],
   "source": [
    "it = iter(items)"
   ]
  },
  {
   "cell_type": "markdown",
   "id": "b23dbf64-36fa-47a8-bdc7-2b6dcb7467e6",
   "metadata": {},
   "source": [
    "You can repeat the following until it reaches the end"
   ]
  },
  {
   "cell_type": "code",
   "execution_count": 3,
   "id": "e463a478-ee69-495b-bd70-784ed4a80e8c",
   "metadata": {},
   "outputs": [
    {
     "data": {
      "text/plain": [
       "1"
      ]
     },
     "execution_count": 3,
     "metadata": {},
     "output_type": "execute_result"
    }
   ],
   "source": [
    "next(it)"
   ]
  },
  {
   "cell_type": "markdown",
   "id": "1c7cd85e-6b9e-4b04-85b9-15289d3fc46b",
   "metadata": {},
   "source": [
    "Python's \"for\" loop is using iterators."
   ]
  },
  {
   "cell_type": "code",
   "execution_count": 4,
   "id": "5da0f5fa-efcf-4a10-be90-7a3cb57ddc5a",
   "metadata": {},
   "outputs": [
    {
     "name": "stdout",
     "output_type": "stream",
     "text": [
      "1\n",
      "2\n",
      "3\n",
      "4\n"
     ]
    }
   ],
   "source": [
    "for item in items:\n",
    "    print(item)"
   ]
  },
  {
   "cell_type": "markdown",
   "id": "dec52a6a-7fa2-4962-9ca2-61fdd05c9d5c",
   "metadata": {
    "tags": []
   },
   "source": [
    "### Generators : \"Functions\" that produce iterator.\n",
    "\n",
    "It will return a sequence of data in an iterable format."
   ]
  },
  {
   "cell_type": "code",
   "execution_count": 5,
   "id": "20ad3b57-c7f2-4612-9e72-25996b6817e2",
   "metadata": {},
   "outputs": [],
   "source": [
    "def seq_it(start, end):\n",
    "    for i in range(start, end+1):\n",
    "        yield i"
   ]
  },
  {
   "cell_type": "code",
   "execution_count": 6,
   "id": "83d09c1a-551b-4400-a294-2448c10da087",
   "metadata": {},
   "outputs": [],
   "source": [
    "iterator = seq_it(1, 4)"
   ]
  },
  {
   "cell_type": "code",
   "execution_count": 7,
   "id": "7c1e481d-ecf2-4364-ab9c-f13843cc0aa3",
   "metadata": {},
   "outputs": [
    {
     "data": {
      "text/plain": [
       "1"
      ]
     },
     "execution_count": 7,
     "metadata": {},
     "output_type": "execute_result"
    }
   ],
   "source": [
    "next(iterator)"
   ]
  },
  {
   "cell_type": "markdown",
   "id": "c1de584e-b6a0-4d76-9e78-84942bdeab33",
   "metadata": {
    "tags": []
   },
   "source": [
    "## Calculate the sum of sqaure values in nums"
   ]
  },
  {
   "cell_type": "markdown",
   "id": "c4eca137-4ab5-4238-b8e9-9e1f04e14b57",
   "metadata": {
    "tags": []
   },
   "source": [
    "### No generator"
   ]
  },
  {
   "cell_type": "code",
   "execution_count": 8,
   "id": "8e69a015-18a3-460a-a458-e543f0ad00d3",
   "metadata": {},
   "outputs": [
    {
     "data": {
      "text/plain": [
       "30"
      ]
     },
     "execution_count": 8,
     "metadata": {},
     "output_type": "execute_result"
    }
   ],
   "source": [
    "def sqr(num):\n",
    "    return num**2\n",
    "\n",
    "output = []\n",
    "for i in items:\n",
    "    output.append(sqr(i))\n",
    "sum(output)"
   ]
  },
  {
   "cell_type": "markdown",
   "id": "12972e3b-7114-435b-b6ac-270f817840c1",
   "metadata": {
    "tags": []
   },
   "source": [
    "### Generator"
   ]
  },
  {
   "cell_type": "code",
   "execution_count": 9,
   "id": "8a5a3a9f-1288-4fab-aea9-ab993573d73d",
   "metadata": {},
   "outputs": [
    {
     "data": {
      "text/plain": [
       "30"
      ]
     },
     "execution_count": 9,
     "metadata": {},
     "output_type": "execute_result"
    }
   ],
   "source": [
    "def sqr_generator(nums):\n",
    "    for i in nums:\n",
    "        yield i**2\n",
    "\n",
    "it = sqr_generator(items)\n",
    "sum(it)"
   ]
  },
  {
   "cell_type": "code",
   "execution_count": null,
   "id": "cee7c36c-1a9f-4f68-8ee3-930946bcd106",
   "metadata": {},
   "outputs": [],
   "source": []
  },
  {
   "cell_type": "code",
   "execution_count": null,
   "id": "4d516d16-c60c-48e6-9860-657be6a0a858",
   "metadata": {},
   "outputs": [],
   "source": []
  }
 ],
 "metadata": {
  "kernelspec": {
   "display_name": "Python 3 (ipykernel)",
   "language": "python",
   "name": "python3"
  },
  "language_info": {
   "codemirror_mode": {
    "name": "ipython",
    "version": 3
   },
   "file_extension": ".py",
   "mimetype": "text/x-python",
   "name": "python",
   "nbconvert_exporter": "python",
   "pygments_lexer": "ipython3",
   "version": "3.9.12"
  }
 },
 "nbformat": 4,
 "nbformat_minor": 5
}
