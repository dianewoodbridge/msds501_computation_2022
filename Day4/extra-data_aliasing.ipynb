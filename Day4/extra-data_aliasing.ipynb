{
 "cells": [
  {
   "cell_type": "markdown",
   "id": "a2787167-3a3f-43c5-88f5-0dbcdf529630",
   "metadata": {},
   "source": [
    "# List - data aliasing in a function\n",
    "\n",
    "List data aliasing can be more complicated.\n",
    "\n",
    "If you use assignment (=) for copy, the new list is still referencing / poiting at the original list.\n",
    "\n",
    "This means that it will update the original list, if you update the new list.\n",
    "\n",
    "<b> To avoid this, you can use copy() method which creates a shallow copy while doesn't modify the original list. </b>\n"
   ]
  },
  {
   "cell_type": "code",
   "execution_count": 1,
   "id": "206c94dd-5548-4c8a-9aeb-bd826374c8da",
   "metadata": {},
   "outputs": [],
   "source": [
    "def update_list_assignment(list1):\n",
    "    list2 = list1\n",
    "    for i in range(len(list2)):\n",
    "        list2[i] = 0\n",
    "    return list2"
   ]
  },
  {
   "cell_type": "code",
   "execution_count": 2,
   "id": "d523167a-b6c0-42ac-b54b-7b090a804b1e",
   "metadata": {},
   "outputs": [],
   "source": [
    "list1 = [1,2,3,4]"
   ]
  },
  {
   "cell_type": "code",
   "execution_count": 3,
   "id": "32df491f-564b-4c9e-a7de-d4fae5bc0cc6",
   "metadata": {},
   "outputs": [
    {
     "data": {
      "text/plain": [
       "[0, 0, 0, 0]"
      ]
     },
     "execution_count": 3,
     "metadata": {},
     "output_type": "execute_result"
    }
   ],
   "source": [
    "update_list_assignment(list1)"
   ]
  },
  {
   "cell_type": "code",
   "execution_count": 4,
   "id": "faa78fcc-8c72-497e-995a-8fe701fe19bd",
   "metadata": {},
   "outputs": [
    {
     "data": {
      "text/plain": [
       "[0, 0, 0, 0]"
      ]
     },
     "execution_count": 4,
     "metadata": {},
     "output_type": "execute_result"
    }
   ],
   "source": [
    "list1"
   ]
  },
  {
   "cell_type": "code",
   "execution_count": 5,
   "id": "2d0dc6e8-dd71-4c41-9b3f-57f10f540433",
   "metadata": {},
   "outputs": [],
   "source": [
    "def update_list_assignment(list1):\n",
    "    list2 = list1.copy()\n",
    "    for i in range(len(list2)):\n",
    "        list2[i] = 0\n",
    "    return list2"
   ]
  },
  {
   "cell_type": "code",
   "execution_count": 6,
   "id": "b983ea6a-1838-4aac-8cff-a26086c6aafe",
   "metadata": {},
   "outputs": [],
   "source": [
    "list1 = [1,2,3,4]"
   ]
  },
  {
   "cell_type": "code",
   "execution_count": 7,
   "id": "249914a9-b6fc-4ef2-8a25-8e42aed9faa8",
   "metadata": {},
   "outputs": [
    {
     "data": {
      "text/plain": [
       "[0, 0, 0, 0]"
      ]
     },
     "execution_count": 7,
     "metadata": {},
     "output_type": "execute_result"
    }
   ],
   "source": [
    "update_list_assignment(list1)"
   ]
  },
  {
   "cell_type": "code",
   "execution_count": 8,
   "id": "5d182798-682d-4654-8422-c4754892d8be",
   "metadata": {},
   "outputs": [
    {
     "data": {
      "text/plain": [
       "[1, 2, 3, 4]"
      ]
     },
     "execution_count": 8,
     "metadata": {},
     "output_type": "execute_result"
    }
   ],
   "source": [
    "list1"
   ]
  },
  {
   "cell_type": "code",
   "execution_count": null,
   "id": "dd33ed10-12a0-40ab-8805-8bbc898eeda8",
   "metadata": {},
   "outputs": [],
   "source": []
  }
 ],
 "metadata": {
  "kernelspec": {
   "display_name": "Python 3 (ipykernel)",
   "language": "python",
   "name": "python3"
  },
  "language_info": {
   "codemirror_mode": {
    "name": "ipython",
    "version": 3
   },
   "file_extension": ".py",
   "mimetype": "text/x-python",
   "name": "python",
   "nbconvert_exporter": "python",
   "pygments_lexer": "ipython3",
   "version": "3.9.12"
  }
 },
 "nbformat": 4,
 "nbformat_minor": 5
}
