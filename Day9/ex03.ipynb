{
 "cells": [
  {
   "cell_type": "markdown",
   "id": "037f3b5a-82f3-4174-a028-cf702763b8a1",
   "metadata": {},
   "source": [
    "## Teacher is a subclass of Human and can be initiated with first name, last name and school. \n",
    "- Create Teacher class and instantiate an object.\n",
    "- Does the object have .introduce() method?\n",
    "- Can we override .introduce() to print 'My name is firstname lastname. I am a teacher at schoolname.?"
   ]
  },
  {
   "cell_type": "code",
   "execution_count": 1,
   "id": "add0496c-7d7e-41f7-ab0f-d384f9d377a6",
   "metadata": {},
   "outputs": [],
   "source": [
    "class Human():\n",
    "    def __init__(self, first_val, last_val):\n",
    "        self.firstname = first_val\n",
    "        self.lastname = last_val\n",
    "        \n",
    "    def introduce(self):\n",
    "        print(f'My name is {self.firstname} {self.lastname }.')"
   ]
  },
  {
   "cell_type": "code",
   "execution_count": 2,
   "id": "40474f61-2667-464a-969d-f582d2c1e039",
   "metadata": {},
   "outputs": [],
   "source": [
    "class Teacher(Human):\n",
    "    def __init__(self, first_val, last_val, school_val):\n",
    "        super().__init__(first_val, last_val)\n",
    "        self.school = school_val        "
   ]
  },
  {
   "cell_type": "code",
   "execution_count": 3,
   "id": "2ff0395b-5554-4ac6-8737-9493a876a10c",
   "metadata": {},
   "outputs": [],
   "source": [
    "diane = Teacher(\"Diane\", \"Woodbridge\", \"USF\")"
   ]
  },
  {
   "cell_type": "code",
   "execution_count": 4,
   "id": "009a1eb8-b3f1-4ca6-bb38-cca45e580497",
   "metadata": {},
   "outputs": [
    {
     "data": {
      "text/plain": [
       "{'firstname': 'Diane', 'lastname': 'Woodbridge', 'school': 'USF'}"
      ]
     },
     "execution_count": 4,
     "metadata": {},
     "output_type": "execute_result"
    }
   ],
   "source": [
    "diane.__dict__"
   ]
  },
  {
   "cell_type": "code",
   "execution_count": 5,
   "id": "c2fd5eb6-dc4f-4af3-a865-69136af1d05c",
   "metadata": {},
   "outputs": [
    {
     "name": "stdout",
     "output_type": "stream",
     "text": [
      "My name is Diane Woodbridge.\n"
     ]
    }
   ],
   "source": [
    "diane.introduce()"
   ]
  },
  {
   "cell_type": "code",
   "execution_count": 6,
   "id": "8cfbe147-55ad-43ce-a36f-bc0defa5fb96",
   "metadata": {},
   "outputs": [],
   "source": [
    "class Teacher(Human):\n",
    "    def __init__(self, first_val, last_val, school_val):\n",
    "        super().__init__(first_val, last_val)\n",
    "        self.school = school_val  \n",
    "    def introduce(self):\n",
    "        print(f'My name is {self.firstname} {self.lastname }. I am a teacher at {self.school}.')"
   ]
  },
  {
   "cell_type": "code",
   "execution_count": 7,
   "id": "9e07e4df-828d-4590-9c45-abacf66f0463",
   "metadata": {},
   "outputs": [],
   "source": [
    "diane = Teacher(\"Diane\", \"Woodbridge\", \"USF\")"
   ]
  },
  {
   "cell_type": "code",
   "execution_count": 8,
   "id": "72de4ef7-30dd-46a1-9d86-d7c6ef519aba",
   "metadata": {},
   "outputs": [
    {
     "name": "stdout",
     "output_type": "stream",
     "text": [
      "My name is Diane Woodbridge. I am a teacher at USF.\n"
     ]
    }
   ],
   "source": [
    "diane.introduce()"
   ]
  },
  {
   "cell_type": "code",
   "execution_count": null,
   "id": "1f3b9974-2b08-4ca4-96d7-574343220f99",
   "metadata": {},
   "outputs": [],
   "source": []
  }
 ],
 "metadata": {
  "kernelspec": {
   "display_name": "Python 3 (ipykernel)",
   "language": "python",
   "name": "python3"
  },
  "language_info": {
   "codemirror_mode": {
    "name": "ipython",
    "version": 3
   },
   "file_extension": ".py",
   "mimetype": "text/x-python",
   "name": "python",
   "nbconvert_exporter": "python",
   "pygments_lexer": "ipython3",
   "version": "3.9.12"
  }
 },
 "nbformat": 4,
 "nbformat_minor": 5
}
