{
 "cells": [
  {
   "cell_type": "markdown",
   "id": "c4670b73-9c44-43d8-b729-7f463f6cdef0",
   "metadata": {},
   "source": [
    "No OOP : The following is an implementation of Diane using dictionary (without class)"
   ]
  },
  {
   "cell_type": "code",
   "execution_count": 1,
   "id": "5f2fa016-1536-4dd7-a13f-f9fa9180b7d7",
   "metadata": {},
   "outputs": [],
   "source": [
    "diane = {\"firstname\" : \"Diane\", \"lastname\" : \"Woodbridge\"}"
   ]
  },
  {
   "cell_type": "code",
   "execution_count": 2,
   "id": "ceea577f-6e55-4f48-845b-610702470f83",
   "metadata": {},
   "outputs": [
    {
     "data": {
      "text/plain": [
       "'Diane'"
      ]
     },
     "execution_count": 2,
     "metadata": {},
     "output_type": "execute_result"
    }
   ],
   "source": [
    "diane[\"firstname\"]"
   ]
  },
  {
   "cell_type": "code",
   "execution_count": 3,
   "id": "436a0449-b628-42f9-ae37-20024415f78e",
   "metadata": {},
   "outputs": [
    {
     "ename": "AttributeError",
     "evalue": "'dict' object has no attribute 'firstname'",
     "output_type": "error",
     "traceback": [
      "\u001b[0;31m---------------------------------------------------------------------------\u001b[0m",
      "\u001b[0;31mAttributeError\u001b[0m                            Traceback (most recent call last)",
      "Input \u001b[0;32mIn [3]\u001b[0m, in \u001b[0;36m<cell line: 1>\u001b[0;34m()\u001b[0m\n\u001b[0;32m----> 1\u001b[0m \u001b[43mdiane\u001b[49m\u001b[38;5;241;43m.\u001b[39;49m\u001b[43mfirstname\u001b[49m\n",
      "\u001b[0;31mAttributeError\u001b[0m: 'dict' object has no attribute 'firstname'"
     ]
    }
   ],
   "source": [
    "diane.firstname"
   ]
  },
  {
   "cell_type": "markdown",
   "id": "8f3cc98c-f72f-4b01-b526-ca7d1b591767",
   "metadata": {},
   "source": [
    "# Instantiate diane as a Human object and add firstname and lastname "
   ]
  },
  {
   "cell_type": "code",
   "execution_count": 4,
   "id": "42474b60-bac7-44fb-9895-2c269501c2f9",
   "metadata": {},
   "outputs": [],
   "source": [
    "class Human():\n",
    "    pass"
   ]
  },
  {
   "cell_type": "code",
   "execution_count": 5,
   "id": "a99e5411-aa4d-42ad-b3d7-0c7c85c2595c",
   "metadata": {},
   "outputs": [],
   "source": [
    "diane = Human\n",
    "diane.firstname = 'Diane'\n",
    "diane.lastname = 'Woodbridge'"
   ]
  },
  {
   "cell_type": "code",
   "execution_count": 6,
   "id": "abf4e77b-e476-49fe-94fa-9727829661fe",
   "metadata": {},
   "outputs": [
    {
     "data": {
      "text/plain": [
       "__main__.Human"
      ]
     },
     "execution_count": 6,
     "metadata": {},
     "output_type": "execute_result"
    }
   ],
   "source": [
    "diane"
   ]
  },
  {
   "cell_type": "code",
   "execution_count": 7,
   "id": "1b5e2ccd-7c29-4c3a-a4af-16823b48e401",
   "metadata": {},
   "outputs": [
    {
     "data": {
      "text/plain": [
       "['__class__',\n",
       " '__delattr__',\n",
       " '__dict__',\n",
       " '__dir__',\n",
       " '__doc__',\n",
       " '__eq__',\n",
       " '__format__',\n",
       " '__ge__',\n",
       " '__getattribute__',\n",
       " '__gt__',\n",
       " '__hash__',\n",
       " '__init__',\n",
       " '__init_subclass__',\n",
       " '__le__',\n",
       " '__lt__',\n",
       " '__module__',\n",
       " '__ne__',\n",
       " '__new__',\n",
       " '__reduce__',\n",
       " '__reduce_ex__',\n",
       " '__repr__',\n",
       " '__setattr__',\n",
       " '__sizeof__',\n",
       " '__str__',\n",
       " '__subclasshook__',\n",
       " '__weakref__',\n",
       " 'firstname',\n",
       " 'lastname']"
      ]
     },
     "execution_count": 7,
     "metadata": {},
     "output_type": "execute_result"
    }
   ],
   "source": [
    "dir(diane)"
   ]
  },
  {
   "cell_type": "code",
   "execution_count": 8,
   "id": "f2c0369e-3d92-40a2-a630-f9ac4bffb670",
   "metadata": {},
   "outputs": [
    {
     "data": {
      "text/plain": [
       "mappingproxy({'__module__': '__main__',\n",
       "              '__dict__': <attribute '__dict__' of 'Human' objects>,\n",
       "              '__weakref__': <attribute '__weakref__' of 'Human' objects>,\n",
       "              '__doc__': None,\n",
       "              'firstname': 'Diane',\n",
       "              'lastname': 'Woodbridge'})"
      ]
     },
     "execution_count": 8,
     "metadata": {},
     "output_type": "execute_result"
    }
   ],
   "source": [
    "diane.__dict__"
   ]
  },
  {
   "cell_type": "code",
   "execution_count": 9,
   "id": "36987274-20d3-41d6-b095-dca17fa1f5ec",
   "metadata": {},
   "outputs": [
    {
     "name": "stdout",
     "output_type": "stream",
     "text": [
      "Diane Woodbridge\n"
     ]
    }
   ],
   "source": [
    "print(diane.firstname, diane.lastname)"
   ]
  },
  {
   "cell_type": "code",
   "execution_count": 10,
   "id": "cd395c2b-04df-4e61-bbbd-c4f535dc98cd",
   "metadata": {},
   "outputs": [],
   "source": [
    "class Human():\n",
    "    def __init__(self, first_val, last_val):\n",
    "        self.firstname = first_val\n",
    "        self.lastname = last_val"
   ]
  },
  {
   "cell_type": "code",
   "execution_count": 11,
   "id": "84c2aaa8-d418-4d56-bd74-eeb4af6ba42d",
   "metadata": {},
   "outputs": [],
   "source": [
    "diane = Human(\"Diane\", \"Woodbridge\")"
   ]
  },
  {
   "cell_type": "code",
   "execution_count": 12,
   "id": "dbfc5927-6db1-40ea-b5fe-c876f3cb97de",
   "metadata": {},
   "outputs": [
    {
     "name": "stdout",
     "output_type": "stream",
     "text": [
      "Diane Woodbridge\n"
     ]
    }
   ],
   "source": [
    "print(diane.firstname, diane.lastname)"
   ]
  },
  {
   "cell_type": "markdown",
   "id": "f6857227-2b20-452c-890b-5bf6b027fb60",
   "metadata": {},
   "source": [
    "## Let's extend the Class to have introduce() and has_hobby() methods"
   ]
  },
  {
   "cell_type": "code",
   "execution_count": 13,
   "id": "65dcd06f-de77-4f9e-bfd5-10d36f02f57a",
   "metadata": {},
   "outputs": [],
   "source": [
    "class Human():\n",
    "    def __init__(self, first_val, last_val):\n",
    "        self.firstname = first_val\n",
    "        self.lastname = last_val\n",
    "    def introduce(self):\n",
    "        print(f'My name is {self.firstname} {self.lastname }.')"
   ]
  },
  {
   "cell_type": "code",
   "execution_count": 14,
   "id": "b2266b85-3d07-4150-b4b7-56fbeb34cb06",
   "metadata": {},
   "outputs": [],
   "source": [
    "diane = Human(\"Diane\", \"Woodbridge\")"
   ]
  },
  {
   "cell_type": "code",
   "execution_count": 15,
   "id": "444dcb33-1961-441b-87f1-1c2d37acbe71",
   "metadata": {},
   "outputs": [
    {
     "data": {
      "text/plain": [
       "['__class__',\n",
       " '__delattr__',\n",
       " '__dict__',\n",
       " '__dir__',\n",
       " '__doc__',\n",
       " '__eq__',\n",
       " '__format__',\n",
       " '__ge__',\n",
       " '__getattribute__',\n",
       " '__gt__',\n",
       " '__hash__',\n",
       " '__init__',\n",
       " '__init_subclass__',\n",
       " '__le__',\n",
       " '__lt__',\n",
       " '__module__',\n",
       " '__ne__',\n",
       " '__new__',\n",
       " '__reduce__',\n",
       " '__reduce_ex__',\n",
       " '__repr__',\n",
       " '__setattr__',\n",
       " '__sizeof__',\n",
       " '__str__',\n",
       " '__subclasshook__',\n",
       " '__weakref__',\n",
       " 'firstname',\n",
       " 'introduce',\n",
       " 'lastname']"
      ]
     },
     "execution_count": 15,
     "metadata": {},
     "output_type": "execute_result"
    }
   ],
   "source": [
    "dir(diane)"
   ]
  },
  {
   "cell_type": "code",
   "execution_count": 16,
   "id": "2313a5d5-88b3-45f7-869e-71b441652683",
   "metadata": {},
   "outputs": [
    {
     "name": "stdout",
     "output_type": "stream",
     "text": [
      "My name is Diane Woodbridge.\n"
     ]
    }
   ],
   "source": [
    "diane.introduce()"
   ]
  },
  {
   "cell_type": "code",
   "execution_count": 17,
   "id": "08a1fb47-31ac-468c-8311-1d616c03a965",
   "metadata": {},
   "outputs": [],
   "source": [
    "class Human():\n",
    "    def __init__(self, first_val, last_val):\n",
    "        self.firstname = first_val\n",
    "        self.lastname = last_val\n",
    "            \n",
    "    def has_hobby(self, val):\n",
    "        self.hobby = val\n",
    "        \n",
    "    def introduce(self):\n",
    "        print(f'My name is {self.firstname} {self.lastname }.')"
   ]
  },
  {
   "cell_type": "code",
   "execution_count": 18,
   "id": "0dcd17fa-c1d2-48db-a681-4abb0f1d4ec6",
   "metadata": {},
   "outputs": [],
   "source": [
    "diane = Human(\"Diane\", \"Woodbridge\")"
   ]
  },
  {
   "cell_type": "code",
   "execution_count": 19,
   "id": "96cd2842-4e9d-45a9-80ee-c7a7745707f4",
   "metadata": {},
   "outputs": [
    {
     "data": {
      "text/plain": [
       "{'firstname': 'Diane', 'lastname': 'Woodbridge'}"
      ]
     },
     "execution_count": 19,
     "metadata": {},
     "output_type": "execute_result"
    }
   ],
   "source": [
    "diane.__dict__"
   ]
  },
  {
   "cell_type": "code",
   "execution_count": 20,
   "id": "c3623535-0dc2-4dca-921d-4ad349f3fd95",
   "metadata": {},
   "outputs": [
    {
     "data": {
      "text/plain": [
       "'Diane'"
      ]
     },
     "execution_count": 20,
     "metadata": {},
     "output_type": "execute_result"
    }
   ],
   "source": [
    "diane.firstname"
   ]
  },
  {
   "cell_type": "code",
   "execution_count": 21,
   "id": "6fba869f-5940-4305-b756-dcd51f9867c9",
   "metadata": {},
   "outputs": [
    {
     "name": "stdout",
     "output_type": "stream",
     "text": [
      "My name is Diane Woodbridge.\n"
     ]
    }
   ],
   "source": [
    "diane.introduce()"
   ]
  },
  {
   "cell_type": "code",
   "execution_count": 22,
   "id": "ae16abb0-7798-4e12-89f9-6bcca3cbe38d",
   "metadata": {},
   "outputs": [],
   "source": [
    "diane.has_hobby(\"sewing\")"
   ]
  },
  {
   "cell_type": "code",
   "execution_count": 23,
   "id": "1ee0dbc6-957e-4f8e-a8bd-3a8c9bee0f4d",
   "metadata": {},
   "outputs": [
    {
     "data": {
      "text/plain": [
       "'sewing'"
      ]
     },
     "execution_count": 23,
     "metadata": {},
     "output_type": "execute_result"
    }
   ],
   "source": [
    "diane.hobby"
   ]
  },
  {
   "cell_type": "code",
   "execution_count": 24,
   "id": "220ba8b2-1c5e-4685-a355-00697d0b586d",
   "metadata": {},
   "outputs": [
    {
     "data": {
      "text/plain": [
       "{'firstname': 'Diane', 'lastname': 'Woodbridge', 'hobby': 'sewing'}"
      ]
     },
     "execution_count": 24,
     "metadata": {},
     "output_type": "execute_result"
    }
   ],
   "source": [
    "diane.__dict__"
   ]
  },
  {
   "cell_type": "code",
   "execution_count": null,
   "id": "d9a7b2f6-1381-45a5-9658-03bd2019e4c8",
   "metadata": {},
   "outputs": [],
   "source": []
  }
 ],
 "metadata": {
  "kernelspec": {
   "display_name": "Python 3 (ipykernel)",
   "language": "python",
   "name": "python3"
  },
  "language_info": {
   "codemirror_mode": {
    "name": "ipython",
    "version": 3
   },
   "file_extension": ".py",
   "mimetype": "text/x-python",
   "name": "python",
   "nbconvert_exporter": "python",
   "pygments_lexer": "ipython3",
   "version": "3.9.12"
  }
 },
 "nbformat": 4,
 "nbformat_minor": 5
}
