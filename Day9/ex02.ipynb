{
 "cells": [
  {
   "cell_type": "markdown",
   "id": "71826806-96fd-47f1-b012-3471c5434139",
   "metadata": {},
   "source": [
    "# Extend the Human() class, which has favorite_food as an attribute, and has add_favorite_food() as a method where you can add element extend favorite_food.\n",
    "### Example\n",
    "diane = Human(\"Diane\", \"Woodbridge\")\n",
    "\n",
    "diane.favorite_food => returns []\n",
    "\n",
    "diane.has_favorite_food('coffee')\n",
    "\n",
    "diane.has_favorite_food('chocolate')\n",
    "\n",
    "diane.favorite_food => returns ['coffee', 'chocolate']"
   ]
  },
  {
   "cell_type": "code",
   "execution_count": 1,
   "id": "79d3e5c7-4482-418b-93a2-50f24eeace0f",
   "metadata": {},
   "outputs": [],
   "source": [
    "class Human():\n",
    "    def __init__(self, first_val, last_val):\n",
    "        self.firstname = first_val\n",
    "        self.lastname = last_val\n",
    "        self.favorite_food = []\n",
    "            \n",
    "    def has_hobby(self, val):\n",
    "        self.hobby = val\n",
    "        \n",
    "    def introduce(self):\n",
    "        print(f'My name is {self.firstname} {self.lastname }.')\n",
    "        \n",
    "    def has_favorite_food(self, val):\n",
    "        self.favorite_food.append(val)"
   ]
  },
  {
   "cell_type": "code",
   "execution_count": 2,
   "id": "d2a4b678-444d-4d69-bf15-cd8f205e0fdc",
   "metadata": {},
   "outputs": [],
   "source": [
    "haonan = Human(\"Haonan\", \"Li\")"
   ]
  },
  {
   "cell_type": "code",
   "execution_count": 3,
   "id": "87990513-be96-4475-b713-096c796253ad",
   "metadata": {},
   "outputs": [],
   "source": [
    "haonan.has_hobby(\"Sala\")"
   ]
  },
  {
   "cell_type": "code",
   "execution_count": 4,
   "id": "633a0bec-995b-4a77-9df7-8b95f1323e64",
   "metadata": {},
   "outputs": [
    {
     "data": {
      "text/plain": [
       "[]"
      ]
     },
     "execution_count": 4,
     "metadata": {},
     "output_type": "execute_result"
    }
   ],
   "source": [
    "haonan.favorite_food"
   ]
  },
  {
   "cell_type": "code",
   "execution_count": 5,
   "id": "35ad9483-25dc-4e31-86ad-0f3c4ec8f2bf",
   "metadata": {},
   "outputs": [],
   "source": [
    "haonan.has_favorite_food('coffee')"
   ]
  },
  {
   "cell_type": "code",
   "execution_count": 6,
   "id": "ff191356-f401-4de5-82ef-fa6a01cd745d",
   "metadata": {},
   "outputs": [
    {
     "data": {
      "text/plain": [
       "['coffee']"
      ]
     },
     "execution_count": 6,
     "metadata": {},
     "output_type": "execute_result"
    }
   ],
   "source": [
    "haonan.favorite_food"
   ]
  },
  {
   "cell_type": "code",
   "execution_count": 7,
   "id": "6220aa3f-7cef-4401-8f96-5648779c16d6",
   "metadata": {},
   "outputs": [],
   "source": [
    "haonan.has_favorite_food('chocolate')"
   ]
  },
  {
   "cell_type": "code",
   "execution_count": 8,
   "id": "94cba785-a167-4f8d-80db-8ef9e382c9c2",
   "metadata": {},
   "outputs": [
    {
     "data": {
      "text/plain": [
       "['coffee', 'chocolate']"
      ]
     },
     "execution_count": 8,
     "metadata": {},
     "output_type": "execute_result"
    }
   ],
   "source": [
    "haonan.favorite_food"
   ]
  },
  {
   "cell_type": "code",
   "execution_count": 9,
   "id": "f2ebbf88-7bbd-468c-9a9e-00014d2af11a",
   "metadata": {},
   "outputs": [
    {
     "data": {
      "text/plain": [
       "{'firstname': 'Haonan',\n",
       " 'lastname': 'Li',\n",
       " 'favorite_food': ['coffee', 'chocolate'],\n",
       " 'hobby': 'Sala'}"
      ]
     },
     "execution_count": 9,
     "metadata": {},
     "output_type": "execute_result"
    }
   ],
   "source": [
    "haonan.__dict__"
   ]
  },
  {
   "cell_type": "code",
   "execution_count": null,
   "id": "480d1211-3ed8-428a-9e95-bb7edce5b986",
   "metadata": {},
   "outputs": [],
   "source": []
  }
 ],
 "metadata": {
  "kernelspec": {
   "display_name": "Python 3 (ipykernel)",
   "language": "python",
   "name": "python3"
  },
  "language_info": {
   "codemirror_mode": {
    "name": "ipython",
    "version": 3
   },
   "file_extension": ".py",
   "mimetype": "text/x-python",
   "name": "python",
   "nbconvert_exporter": "python",
   "pygments_lexer": "ipython3",
   "version": "3.9.12"
  }
 },
 "nbformat": 4,
 "nbformat_minor": 5
}
