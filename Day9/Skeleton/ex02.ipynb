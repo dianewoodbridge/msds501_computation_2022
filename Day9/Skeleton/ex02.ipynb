{
 "cells": [
  {
   "cell_type": "markdown",
   "id": "71826806-96fd-47f1-b012-3471c5434139",
   "metadata": {},
   "source": [
    "# Extend the Human() class, which has favorite_food as an attribute, and has add_favorite_food() as a method where you can add element extend favorite_food.\n",
    "### Example\n",
    "diane = Human(\"Diane\", \"Woodbridge\")\n",
    "\n",
    "diane.favorite_food => returns []\n",
    "\n",
    "diane.has_favorite_food('coffee')\n",
    "\n",
    "diane.has_favorite_food('chocolate')\n",
    "\n",
    "diane.favorite_food => returns ['coffee', 'chocolate']"
   ]
  },
  {
   "cell_type": "code",
   "execution_count": 1,
   "id": "79d3e5c7-4482-418b-93a2-50f24eeace0f",
   "metadata": {},
   "outputs": [],
   "source": [
    "class Human():\n",
    "    def __init__(self, first_val, last_val):\n",
    "        self.firstname = first_val\n",
    "        self.lastname = last_val\n",
    "        self.favorite_food = []\n",
    "            \n",
    "    def has_hobby(self, val):\n",
    "        self.hobby = val\n",
    "        \n",
    "    def introduce(self):\n",
    "        print(f'My name is {self.firstname} {self.lastname }.')\n"
   ]
  },
  {
   "cell_type": "code",
   "execution_count": null,
   "id": "480d1211-3ed8-428a-9e95-bb7edce5b986",
   "metadata": {},
   "outputs": [],
   "source": []
  }
 ],
 "metadata": {
  "kernelspec": {
   "display_name": "Python 3 (ipykernel)",
   "language": "python",
   "name": "python3"
  },
  "language_info": {
   "codemirror_mode": {
    "name": "ipython",
    "version": 3
   },
   "file_extension": ".py",
   "mimetype": "text/x-python",
   "name": "python",
   "nbconvert_exporter": "python",
   "pygments_lexer": "ipython3",
   "version": "3.9.12"
  }
 },
 "nbformat": 4,
 "nbformat_minor": 5
}
