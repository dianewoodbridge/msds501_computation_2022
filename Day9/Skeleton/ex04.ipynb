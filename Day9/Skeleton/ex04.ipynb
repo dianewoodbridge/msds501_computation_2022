{
 "cells": [
  {
   "cell_type": "markdown",
   "id": "b5a93d2a-a358-4b01-aaed-8a42f54b4b00",
   "metadata": {},
   "source": [
    "## Create a class called Baby which is a subclass of Human.\n",
    "- it has additional variable month (age) which is required for instantization.\n",
    "- also it has not_allowed attribute which has ['shellfish','peanut','honey'].\n",
    "- Babies introduce themselves as \"Goo Goo Gaga\"\n",
    "- Create the print_sleep_hours() method which sets and prints the sleep hours.\n",
    "  Babies younger than 1 month sleep for 16 hours, <=6 sleeps for 15, otherwise 14 hours."
   ]
  },
  {
   "cell_type": "code",
   "execution_count": 1,
   "id": "cb88adb4-4d30-4a54-ace8-1c3df6240aab",
   "metadata": {},
   "outputs": [],
   "source": [
    "class Human():\n",
    "    def __init__(self, first_val, last_val):\n",
    "        self.firstname = first_val\n",
    "        self.lastname = last_val\n",
    "        \n",
    "    def introduce(self):\n",
    "        print(f'My name is {self.firstname} {self.lastname }.')"
   ]
  },
  {
   "cell_type": "code",
   "execution_count": null,
   "id": "89c5e2f0-891d-4edb-93e9-c9286531d3a1",
   "metadata": {},
   "outputs": [],
   "source": []
  }
 ],
 "metadata": {
  "kernelspec": {
   "display_name": "Python 3 (ipykernel)",
   "language": "python",
   "name": "python3"
  },
  "language_info": {
   "codemirror_mode": {
    "name": "ipython",
    "version": 3
   },
   "file_extension": ".py",
   "mimetype": "text/x-python",
   "name": "python",
   "nbconvert_exporter": "python",
   "pygments_lexer": "ipython3",
   "version": "3.9.12"
  }
 },
 "nbformat": 4,
 "nbformat_minor": 5
}
