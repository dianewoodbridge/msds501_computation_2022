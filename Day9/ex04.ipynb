{
 "cells": [
  {
   "cell_type": "markdown",
   "id": "b5a93d2a-a358-4b01-aaed-8a42f54b4b00",
   "metadata": {},
   "source": [
    "## Create a class called Baby which is a subclass of Human.\n",
    "- it has additional variable month (age) which is required for instantization.\n",
    "- also it has not_allowed attribute which has ['shellfish','peanut','honey'].\n",
    "- Babies introduce themselves as \"Goo Goo Gaga\"\n",
    "- Create the print_sleep_hours() method which sets and prints the sleep hours.\n",
    "  Babies younger than 1 month sleep for 16 hours, <=6 sleeps for 15, otherwise 14 hours."
   ]
  },
  {
   "cell_type": "code",
   "execution_count": 1,
   "id": "cb88adb4-4d30-4a54-ace8-1c3df6240aab",
   "metadata": {},
   "outputs": [],
   "source": [
    "class Human():\n",
    "    def __init__(self, first_val, last_val):\n",
    "        self.firstname = first_val\n",
    "        self.lastname = last_val\n",
    "        \n",
    "    def introduce(self):\n",
    "        print(f'My name is {self.firstname} {self.lastname }.')"
   ]
  },
  {
   "cell_type": "code",
   "execution_count": 2,
   "id": "76264c5e-ed82-4f85-a775-1ecd882dd0e3",
   "metadata": {},
   "outputs": [],
   "source": [
    "class Baby(Human):\n",
    "    def __init__(self, first_val, last_val, month):\n",
    "        super().__init__(first_val, last_val)\n",
    "        self.month = month\n",
    "        self.not_allowed = ['shellfish','peanut','honey']\n",
    "        \n",
    "    def introduce(self):\n",
    "        print(\"Goo Goo Gaga\")\n",
    "    \n",
    "    def print_sleep_hours(self):\n",
    "        if self.month <= 1:\n",
    "            self.sleep_hours = 16\n",
    "        elif self.month <= 6:\n",
    "            self.sleep_hours = 15\n",
    "        elif self.month <= 12:\n",
    "            self.sleep_hours = 14\n",
    "        print(f'Sleeps for {self.sleep_hours}')"
   ]
  },
  {
   "cell_type": "code",
   "execution_count": 3,
   "id": "efdb1ba1-6da3-4c0a-b202-474e0a47833a",
   "metadata": {},
   "outputs": [],
   "source": [
    "jackson = Baby('Jackson', 'Woodbridge', 6)"
   ]
  },
  {
   "cell_type": "code",
   "execution_count": 4,
   "id": "478998f6-15c8-4f42-a750-fe1f2c5e392f",
   "metadata": {},
   "outputs": [
    {
     "name": "stdout",
     "output_type": "stream",
     "text": [
      "Goo Goo Gaga\n"
     ]
    }
   ],
   "source": [
    "jackson.introduce()"
   ]
  },
  {
   "cell_type": "code",
   "execution_count": 5,
   "id": "4aa1704e-9e11-4bf5-9e0a-f9bbfeac1f5b",
   "metadata": {},
   "outputs": [
    {
     "name": "stdout",
     "output_type": "stream",
     "text": [
      "Sleeps for 15\n"
     ]
    }
   ],
   "source": [
    "jackson.print_sleep_hours()"
   ]
  },
  {
   "cell_type": "code",
   "execution_count": 7,
   "id": "a05c77b0-de1e-41c5-84c6-5ebf149d39c9",
   "metadata": {},
   "outputs": [
    {
     "data": {
      "text/plain": [
       "['shellfish', 'peanut', 'honey']"
      ]
     },
     "execution_count": 7,
     "metadata": {},
     "output_type": "execute_result"
    }
   ],
   "source": [
    "jackson.not_allowed"
   ]
  },
  {
   "cell_type": "code",
   "execution_count": null,
   "id": "89c5e2f0-891d-4edb-93e9-c9286531d3a1",
   "metadata": {},
   "outputs": [],
   "source": []
  }
 ],
 "metadata": {
  "kernelspec": {
   "display_name": "Python 3 (ipykernel)",
   "language": "python",
   "name": "python3"
  },
  "language_info": {
   "codemirror_mode": {
    "name": "ipython",
    "version": 3
   },
   "file_extension": ".py",
   "mimetype": "text/x-python",
   "name": "python",
   "nbconvert_exporter": "python",
   "pygments_lexer": "ipython3",
   "version": "3.9.12"
  }
 },
 "nbformat": 4,
 "nbformat_minor": 5
}
