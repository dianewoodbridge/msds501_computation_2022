{
 "cells": [
  {
   "cell_type": "code",
   "execution_count": 2,
   "id": "971eabaf-d94c-4bf9-b6f0-26f35b2576b1",
   "metadata": {},
   "outputs": [],
   "source": [
    "from user_definition import *"
   ]
  },
  {
   "cell_type": "code",
   "execution_count": 3,
   "id": "5df3a90e-8f21-4ffc-b5c9-c5f3a266e225",
   "metadata": {},
   "outputs": [],
   "source": [
    "with open(file_name, 'rb') as file:\n",
    "    data = pickle.load(file)"
   ]
  },
  {
   "cell_type": "code",
   "execution_count": 42,
   "id": "ec6e62c3-1b84-4d37-8060-16cc27f26148",
   "metadata": {},
   "outputs": [],
   "source": [
    "np_array = np.array(data)\n",
    "output = np.unique(np_array[:,1])\n",
    "list(output)"
   ]
  },
  {
   "cell_type": "code",
   "execution_count": 164,
   "id": "ff1e860f-86c9-4ad4-b399-0962e3b4cbfd",
   "metadata": {},
   "outputs": [],
   "source": [
    "sf = City(\"San Francisco\", [90105, 90105])"
   ]
  },
  {
   "cell_type": "code",
   "execution_count": 165,
   "id": "ac7d4c46-b83f-4fd8-ba3c-1e7ef335ebe0",
   "metadata": {},
   "outputs": [],
   "source": [
    "sf.zips.append(90107)"
   ]
  },
  {
   "cell_type": "code",
   "execution_count": 166,
   "id": "415d9ae3-d14b-4643-b3c9-639e8f3848b4",
   "metadata": {},
   "outputs": [
    {
     "data": {
      "text/plain": [
       "{'name': 'San Francisco', 'zips': [90105, 90107]}"
      ]
     },
     "execution_count": 166,
     "metadata": {},
     "output_type": "execute_result"
    }
   ],
   "source": [
    "sf.__dict__"
   ]
  },
  {
   "cell_type": "code",
   "execution_count": 143,
   "id": "be069805-8ea1-4a49-9647-550aeec62217",
   "metadata": {},
   "outputs": [],
   "source": [
    "class City():\n",
    "    def __init__(self, name_val, zips_val): \n",
    "        # method : rerquires first argumet \n",
    "        # being self\n",
    "        self.name = name_val\n",
    "        #zips_val.sort()\n",
    "        self.zips = list(set(np.array(zips_val)))\n",
    "    def print_name(self):\n",
    "        print(f'city name is {self.name}')\n",
    "    def min_zip(self):\n",
    "        self.min_zip_vals = np.min(self.zips)\n",
    "        print(self.min_zip_vals)\n",
    "    def add_population(self, population_num):\n",
    "        self.population = population_num\n",
    "    def population_plus_number(self, number):\n",
    "        return self.population + number"
   ]
  },
  {
   "cell_type": "code",
   "execution_count": null,
   "id": "2bc8b046-4572-45f8-badf-b651aaa223d2",
   "metadata": {},
   "outputs": [],
   "source": []
  },
  {
   "cell_type": "code",
   "execution_count": 127,
   "id": "3ffca161-9422-4843-b979-a7278292b712",
   "metadata": {},
   "outputs": [
    {
     "data": {
      "text/plain": [
       "90024"
      ]
     },
     "execution_count": 127,
     "metadata": {},
     "output_type": "execute_result"
    }
   ],
   "source": [
    "np.min(la.zips)#[0]"
   ]
  },
  {
   "cell_type": "code",
   "execution_count": 128,
   "id": "4cdb075e-1510-4adb-ba09-7054d3fb9df9",
   "metadata": {},
   "outputs": [
    {
     "data": {
      "text/plain": [
       "{'name': 'los angeles',\n",
       " 'zips': [90024, 90066],\n",
       " 'min_zip_vals': 90024,\n",
       " 'population': 600000}"
      ]
     },
     "execution_count": 128,
     "metadata": {},
     "output_type": "execute_result"
    }
   ],
   "source": [
    "la.__dict__"
   ]
  },
  {
   "cell_type": "code",
   "execution_count": 144,
   "id": "ea7cc0fd-761e-454d-b840-5d9f30392319",
   "metadata": {},
   "outputs": [],
   "source": [
    "la = City('los angeles', [ 90066, 90024, 90066])"
   ]
  },
  {
   "cell_type": "code",
   "execution_count": 145,
   "id": "06be9c85-2782-4f6b-982c-8c86a23173e9",
   "metadata": {},
   "outputs": [
    {
     "data": {
      "text/plain": [
       "{'name': 'los angeles', 'zips': [90024, 90066]}"
      ]
     },
     "execution_count": 145,
     "metadata": {},
     "output_type": "execute_result"
    }
   ],
   "source": [
    "la.__dict__"
   ]
  },
  {
   "cell_type": "code",
   "execution_count": 146,
   "id": "bdfc123e-91ff-4fe0-9e3f-c4a0368b637d",
   "metadata": {},
   "outputs": [
    {
     "data": {
      "text/plain": [
       "[90024, 90066]"
      ]
     },
     "execution_count": 146,
     "metadata": {},
     "output_type": "execute_result"
    }
   ],
   "source": [
    "la.zips"
   ]
  },
  {
   "cell_type": "code",
   "execution_count": 147,
   "id": "db07da0a-caf2-4ead-a0b2-673e553617bb",
   "metadata": {},
   "outputs": [
    {
     "name": "stdout",
     "output_type": "stream",
     "text": [
      "city name is los angeles\n"
     ]
    }
   ],
   "source": [
    "la.print_name()"
   ]
  },
  {
   "cell_type": "code",
   "execution_count": 148,
   "id": "46e758f5-e14d-43e8-9da8-44506484d51b",
   "metadata": {},
   "outputs": [
    {
     "name": "stdout",
     "output_type": "stream",
     "text": [
      "90024\n"
     ]
    }
   ],
   "source": [
    "la.min_zip()"
   ]
  },
  {
   "cell_type": "code",
   "execution_count": 149,
   "id": "7d93a31a-5f07-440a-b68e-b13547d357c4",
   "metadata": {},
   "outputs": [
    {
     "data": {
      "text/plain": [
       "{'name': 'los angeles', 'zips': [90024, 90066], 'min_zip_vals': 90024}"
      ]
     },
     "execution_count": 149,
     "metadata": {},
     "output_type": "execute_result"
    }
   ],
   "source": [
    "la.__dict__"
   ]
  },
  {
   "cell_type": "code",
   "execution_count": 150,
   "id": "d4bd72d5-87ae-464b-9252-bb2d804251a2",
   "metadata": {},
   "outputs": [],
   "source": [
    "la.add_population(10)"
   ]
  },
  {
   "cell_type": "code",
   "execution_count": 151,
   "id": "ccdaef64-c873-4606-8205-6ad63bc71159",
   "metadata": {},
   "outputs": [
    {
     "data": {
      "text/plain": [
       "{'name': 'los angeles',\n",
       " 'zips': [90024, 90066],\n",
       " 'min_zip_vals': 90024,\n",
       " 'population': 10}"
      ]
     },
     "execution_count": 151,
     "metadata": {},
     "output_type": "execute_result"
    }
   ],
   "source": [
    "la.__dict__"
   ]
  },
  {
   "cell_type": "code",
   "execution_count": 152,
   "id": "e437935b-4a5a-44de-8f41-8bf9c562c400",
   "metadata": {},
   "outputs": [
    {
     "data": {
      "text/plain": [
       "210"
      ]
     },
     "execution_count": 152,
     "metadata": {},
     "output_type": "execute_result"
    }
   ],
   "source": [
    "la.population_plus_number(200)"
   ]
  },
  {
   "cell_type": "code",
   "execution_count": 142,
   "id": "b457d117-02b6-4592-afa9-99bd50c030a6",
   "metadata": {},
   "outputs": [
    {
     "data": {
      "text/plain": [
       "{'name': 'los angeles',\n",
       " 'zips': [90024, 90066],\n",
       " 'min_zip_vals': 90024,\n",
       " 'population': 210}"
      ]
     },
     "execution_count": 142,
     "metadata": {},
     "output_type": "execute_result"
    }
   ],
   "source": [
    "la.__dict__"
   ]
  },
  {
   "cell_type": "code",
   "execution_count": 167,
   "id": "db9c2d7d-1e48-4885-b62a-fb7dc6124782",
   "metadata": {},
   "outputs": [
    {
     "data": {
      "text/plain": [
       "'San Francisco'"
      ]
     },
     "execution_count": 167,
     "metadata": {},
     "output_type": "execute_result"
    }
   ],
   "source": [
    "#def create_city_object(file_name, city_name):\n",
    "city_name    "
   ]
  },
  {
   "cell_type": "code",
   "execution_count": 168,
   "id": "bf5c04dc-ae23-4eb9-b8b4-8f5db1c9442a",
   "metadata": {},
   "outputs": [
    {
     "data": {
      "text/plain": [
       "'input/zip.pickle'"
      ]
     },
     "execution_count": 168,
     "metadata": {},
     "output_type": "execute_result"
    }
   ],
   "source": [
    "file_name"
   ]
  },
  {
   "cell_type": "code",
   "execution_count": 203,
   "id": "82397a8f-a86c-47e4-96a8-af1e58b4bfd3",
   "metadata": {},
   "outputs": [],
   "source": [
    "def create_city_object(file_name, city_name):  \n",
    "    with open(file_name, 'rb') as file:\n",
    "        data = pickle.load(file)\n",
    "    data = list(set(data))\n",
    "    zips = []\n",
    "    for row in data:\n",
    "        if row[1] == city_name:\n",
    "            zips.append(row[0])\n",
    "    zips_np = np.sort(np.array(zips))\n",
    "    zips_np\n",
    "    city_object = City(city_name, zips_np)\n",
    "    return city_object"
   ]
  },
  {
   "cell_type": "code",
   "execution_count": 204,
   "id": "33bc3514-3247-440c-b199-9e1488567afa",
   "metadata": {},
   "outputs": [],
   "source": [
    "sf = create_city_object(file_name, city_name)"
   ]
  },
  {
   "cell_type": "code",
   "execution_count": 205,
   "id": "44ceb97d-692c-4c75-9942-28974e88673e",
   "metadata": {},
   "outputs": [
    {
     "data": {
      "text/plain": [
       "'San Francisco'"
      ]
     },
     "execution_count": 205,
     "metadata": {},
     "output_type": "execute_result"
    }
   ],
   "source": [
    "sf.name"
   ]
  },
  {
   "cell_type": "code",
   "execution_count": 194,
   "id": "861af7b4-a1d4-40bd-b455-b915c03d5009",
   "metadata": {},
   "outputs": [
    {
     "data": {
      "text/plain": [
       "array([94102, 94103, 94104, 94105])"
      ]
     },
     "execution_count": 194,
     "metadata": {},
     "output_type": "execute_result"
    }
   ],
   "source": []
  },
  {
   "cell_type": "code",
   "execution_count": 195,
   "id": "a511e7eb-1405-4775-93e1-de09ebe9b4c8",
   "metadata": {},
   "outputs": [
    {
     "name": "stdout",
     "output_type": "stream",
     "text": [
      "<__main__.City object at 0x7febe0c0dcd0>\n"
     ]
    }
   ],
   "source": []
  },
  {
   "cell_type": "code",
   "execution_count": 208,
   "id": "dffb47c5-c550-4844-a777-862d1e625e02",
   "metadata": {},
   "outputs": [
    {
     "name": "stdout",
     "output_type": "stream",
     "text": [
      "\u001b[1m============================= test session starts ==============================\u001b[0m\n",
      "platform darwin -- Python 3.9.12, pytest-7.1.2, pluggy-1.0.0\n",
      "rootdir: /Users/dwoodbridge/Class/2022_MSDS501/Quiz/Quiz4/Priactice_Quiz/Programming/Assigned\n",
      "plugins: anyio-3.5.0\n",
      "collected 4 items                                                              \u001b[0m\u001b[1m\n",
      "\n",
      "test_practice_quiz4.py \u001b[31mF\u001b[0m\u001b[32m.\u001b[0m\u001b[31mF\u001b[0m\u001b[31mF\u001b[0m\u001b[31m                                              [100%]\u001b[0m\n",
      "\n",
      "=================================== FAILURES ===================================\n",
      "\u001b[31m\u001b[1m______________________________ test_unique_cities ______________________________\u001b[0m\n",
      "\n",
      "    \u001b[94mdef\u001b[39;49;00m \u001b[92mtest_unique_cities\u001b[39;49;00m():\n",
      ">       \u001b[94massert\u001b[39;49;00m unique_cities(file_name) ==\\\n",
      "        [\u001b[33m'\u001b[39;49;00m\u001b[33mLos Angeles\u001b[39;49;00m\u001b[33m'\u001b[39;49;00m, \u001b[33m'\u001b[39;49;00m\u001b[33mSan Francisco\u001b[39;49;00m\u001b[33m'\u001b[39;49;00m, \u001b[33m'\u001b[39;49;00m\u001b[33mSeattle\u001b[39;49;00m\u001b[33m'\u001b[39;49;00m]\n",
      "\u001b[1m\u001b[31mE       NameError: name 'unique_cities' is not defined\u001b[0m\n",
      "\n",
      "\u001b[1m\u001b[31mtest_practice_quiz4.py\u001b[0m:4: NameError\n",
      "\u001b[31m\u001b[1m_____________________________ test_city_population _____________________________\u001b[0m\n",
      "\n",
      "    \u001b[94mdef\u001b[39;49;00m \u001b[92mtest_city_population\u001b[39;49;00m():\n",
      ">       \u001b[94massert\u001b[39;49;00m np.array_equal(city_population(file_name),\n",
      "               np.array([[\u001b[33m'\u001b[39;49;00m\u001b[33mLos Angeles\u001b[39;49;00m\u001b[33m'\u001b[39;49;00m, \u001b[33m'\u001b[39;49;00m\u001b[33m58974\u001b[39;49;00m\u001b[33m'\u001b[39;49;00m],\n",
      "                         [\u001b[33m'\u001b[39;49;00m\u001b[33mSan Francisco\u001b[39;49;00m\u001b[33m'\u001b[39;49;00m, \u001b[33m'\u001b[39;49;00m\u001b[33m71133\u001b[39;49;00m\u001b[33m'\u001b[39;49;00m],\n",
      "                         [\u001b[33m'\u001b[39;49;00m\u001b[33mSeattle\u001b[39;49;00m\u001b[33m'\u001b[39;49;00m, \u001b[33m'\u001b[39;49;00m\u001b[33m10238\u001b[39;49;00m\u001b[33m'\u001b[39;49;00m]]))\n",
      "\u001b[1m\u001b[31mE       NameError: name 'city_population' is not defined\u001b[0m\n",
      "\n",
      "\u001b[1m\u001b[31mtest_practice_quiz4.py\u001b[0m:15: NameError\n",
      "\u001b[31m\u001b[1m_____________________________ test_create_city_obj _____________________________\u001b[0m\n",
      "\n",
      "    \u001b[94mdef\u001b[39;49;00m \u001b[92mtest_create_city_obj\u001b[39;49;00m():\n",
      ">       output = create_city_obj(file_name, city_name)\n",
      "\u001b[1m\u001b[31mE       NameError: name 'create_city_obj' is not defined\u001b[0m\n",
      "\n",
      "\u001b[1m\u001b[31mtest_practice_quiz4.py\u001b[0m:21: NameError\n",
      "=========================== short test summary info ============================\n",
      "FAILED test_practice_quiz4.py::test_unique_cities - NameError: name 'unique_c...\n",
      "FAILED test_practice_quiz4.py::test_city_population - NameError: name 'city_p...\n",
      "FAILED test_practice_quiz4.py::test_create_city_obj - NameError: name 'create...\n",
      "\u001b[31m========================= \u001b[31m\u001b[1m3 failed\u001b[0m, \u001b[32m1 passed\u001b[0m\u001b[31m in 0.94s\u001b[0m\u001b[31m ==========================\u001b[0m\n"
     ]
    }
   ],
   "source": [
    "!pytest"
   ]
  },
  {
   "cell_type": "code",
   "execution_count": 212,
   "id": "6d09429f-9972-42b2-8acc-2f825a1c2dc0",
   "metadata": {},
   "outputs": [],
   "source": [
    "def create_unique_city(file):\n",
    "    with open(file_name, 'rb') as file:\n",
    "        data = pickle.load(file)\n",
    "        unique_city = np.unique(np.array(data)[:,1])\n",
    "        return(list(unique_city))"
   ]
  },
  {
   "cell_type": "code",
   "execution_count": 214,
   "id": "86327e15-c6c5-4302-b297-1f64ce068d32",
   "metadata": {},
   "outputs": [],
   "source": [
    "unique_city = create_unique_city(file)"
   ]
  },
  {
   "cell_type": "code",
   "execution_count": 232,
   "id": "508c5e5a-cb66-4598-bc69-02e14c4856ed",
   "metadata": {},
   "outputs": [],
   "source": [
    "with open(file_name, 'rb') as file:\n",
    "    data = pickle.load(file)\n",
    "    data = np.array(list(set(data)))\n",
    "    output = []\n",
    "for city in unique_city:\n",
    "    population = np.sum(data[data[:,1] == city][:,2].astype(dtype=int))\n",
    "    output.append([city, population])\n",
    "    "
   ]
  },
  {
   "cell_type": "code",
   "execution_count": 233,
   "id": "41cca8ae-12cc-4ab5-8ce7-d9d59b0ddc2f",
   "metadata": {},
   "outputs": [
    {
     "data": {
      "text/plain": [
       "[['Los Angeles', 58974], ['San Francisco', 71133], ['Seattle', 10238]]"
      ]
     },
     "execution_count": 233,
     "metadata": {},
     "output_type": "execute_result"
    }
   ],
   "source": [
    "output"
   ]
  },
  {
   "cell_type": "code",
   "execution_count": null,
   "id": "e6de570f-5e95-4353-b716-5d7cfb695630",
   "metadata": {},
   "outputs": [],
   "source": []
  }
 ],
 "metadata": {
  "kernelspec": {
   "display_name": "Python 3 (ipykernel)",
   "language": "python",
   "name": "python3"
  },
  "language_info": {
   "codemirror_mode": {
    "name": "ipython",
    "version": 3
   },
   "file_extension": ".py",
   "mimetype": "text/x-python",
   "name": "python",
   "nbconvert_exporter": "python",
   "pygments_lexer": "ipython3",
   "version": "3.9.12"
  }
 },
 "nbformat": 4,
 "nbformat_minor": 5
}
