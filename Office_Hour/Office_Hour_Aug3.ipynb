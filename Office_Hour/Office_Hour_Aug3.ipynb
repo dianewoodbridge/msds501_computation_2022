{
 "cells": [
  {
   "cell_type": "code",
   "execution_count": 13,
   "id": "93ef52e3-53c8-4eb5-8a02-ad1117999e5a",
   "metadata": {},
   "outputs": [],
   "source": [
    "from user_definition import *"
   ]
  },
  {
   "cell_type": "code",
   "execution_count": 71,
   "id": "901f30e0-fdf5-4604-8320-807251ad7ff6",
   "metadata": {},
   "outputs": [],
   "source": [
    "# def parse_lines(file_name):\n",
    "def maker_count(file_name):\n",
    "    #1. open the file - Memorize\n",
    "    with open(file_name,'r') as file:\n",
    "        #2. read the lines\n",
    "        lines = file.readlines()\n",
    "        lines = list(set(lines))\n",
    "        #print(lines)\n",
    "    #3. Create a pair of maker : model\n",
    "        #counter = 0\n",
    "        makers = []\n",
    "        for line in lines:  # iterating by elements\n",
    "            line_stripped = line.strip()\n",
    "            line_splitted = line_stripped.split(\",\")\n",
    "            #print(line_splitted)\n",
    "            #key = line_splitted[0]\n",
    "            #value = line_splitted[1]\n",
    "            makers.append(line_splitted[0])\n",
    "            #print(makers)\n",
    "        #for i in range(0, len(lines)):\n",
    "            #print(i)\n",
    "            #print(lines[i])\n",
    "    unique_makers = set(list(set(makers)))\n",
    "    unique_makers\n",
    "    return (len(unique_makers))\n"
   ]
  },
  {
   "cell_type": "code",
   "execution_count": 74,
   "id": "4031c2ea-4a0b-4270-aa2f-65b8e9bf35bf",
   "metadata": {},
   "outputs": [
    {
     "data": {
      "text/plain": [
       "False"
      ]
     },
     "execution_count": 74,
     "metadata": {},
     "output_type": "execute_result"
    }
   ],
   "source": [
    "maker_count(file_name) == 4"
   ]
  },
  {
   "cell_type": "code",
   "execution_count": 100,
   "id": "99e4c5f9-0b78-4e0f-b5b3-24e7fe5a1ceb",
   "metadata": {},
   "outputs": [],
   "source": [
    "def model_count(file_name):\n",
    "    #1. open the file - Memorize\n",
    "    with open(file_name,'r') as file:\n",
    "        #2. read the lines\n",
    "        lines = file.readlines()\n",
    "        lines = list(set(lines))\n",
    "        #print(lines)\n",
    "    #3. Create a pair of maker : model\n",
    "        #counter = 0\n",
    "        makers = []\n",
    "        for line in lines:  # iterating by elements\n",
    "            line_stripped = line.strip()\n",
    "            line_splitted = line_stripped.split(\",\")\n",
    "            #print(line_splitted)\n",
    "            #key = line_splitted[0]\n",
    "            #value = line_splitted[1]\n",
    "            makers.append(line_splitted[0])\n",
    "            #print(makers)\n",
    "        #for i in range(0, len(lines)):\n",
    "            #print(i)\n",
    "            #print(lines[i])\n",
    "    unique_makers = set(list(set(makers)))\n",
    "    #print(lines)\n",
    "    #print(unique_makers)\n",
    "    #[ maker1, maker2, maker3]\n",
    "    unique_makers = list(unique_makers)\n",
    "    unique_makers.sort()\n",
    "    #print(unique_makers)\n",
    "    \n",
    "    output = []\n",
    "    for maker in unique_makers:\n",
    "        #print(\"==============\")\n",
    "        \n",
    "        \n",
    "        count = 0\n",
    "        for line in lines:\n",
    "            splitted_lines = line.strip().split(\",\")\n",
    "            #print(splitted_lines)\n",
    "            maker_in_list = splitted_lines[0]\n",
    "            model = splitted_lines[1]\n",
    "            #print(maker)\n",
    "            if(maker == maker_in_list):\n",
    "                count = count + 1\n",
    "        #print(maker)    \n",
    "        #print(count)\n",
    "        #[[maker, count], [maker2, count2]]\n",
    "        output.append((maker, count))\n",
    "    return (output)\n",
    "    \n",
    "\n"
   ]
  },
  {
   "cell_type": "code",
   "execution_count": 101,
   "id": "fb93fb91-a00f-4917-9343-4fda15581099",
   "metadata": {},
   "outputs": [
    {
     "data": {
      "text/plain": [
       "[('BMW', 3), ('Hyundai', 3), ('Kia', 2)]"
      ]
     },
     "execution_count": 101,
     "metadata": {},
     "output_type": "execute_result"
    }
   ],
   "source": [
    "model_count(file_name)"
   ]
  },
  {
   "cell_type": "code",
   "execution_count": 112,
   "id": "de0be525-401a-4a83-b35f-b8a3fb88f3f3",
   "metadata": {},
   "outputs": [
    {
     "data": {
      "text/plain": [
       "[-1, 1, 2]"
      ]
     },
     "execution_count": 112,
     "metadata": {},
     "output_type": "execute_result"
    }
   ],
   "source": [
    "nums = [1,2,-1]\n",
    "nums.sort()\n",
    "nums"
   ]
  },
  {
   "cell_type": "code",
   "execution_count": 105,
   "id": "9703f32a-0685-4975-969f-cd290f157329",
   "metadata": {},
   "outputs": [
    {
     "data": {
      "text/plain": [
       "38"
      ]
     },
     "execution_count": 105,
     "metadata": {},
     "output_type": "execute_result"
    }
   ],
   "source": [
    "diane"
   ]
  },
  {
   "cell_type": "code",
   "execution_count": 103,
   "id": "ffcb7b4a-8325-4745-86f1-521d0377579d",
   "metadata": {},
   "outputs": [
    {
     "name": "stdout",
     "output_type": "stream",
     "text": [
      "\u001b[1m============================= test session starts ==============================\u001b[0m\n",
      "platform darwin -- Python 3.9.12, pytest-7.1.2, pluggy-1.0.0\n",
      "rootdir: /Users/dwoodbridge/Class/2022_MSDS501/Quiz/Quiz3/Programming/Answer\n",
      "plugins: anyio-3.5.0\n",
      "collected 8 items                                                              \u001b[0m\n",
      "\n",
      "test_quiz3.py \u001b[32m.\u001b[0m\u001b[32m.\u001b[0m\u001b[31mF\u001b[0m\u001b[31mF\u001b[0m\u001b[32m.\u001b[0m\u001b[32m.\u001b[0m\u001b[31mF\u001b[0m\u001b[31mF\u001b[0m\u001b[31m                                                   [100%]\u001b[0m\n",
      "\n",
      "=================================== FAILURES ===================================\n",
      "\u001b[31m\u001b[1m_____________________________ test_return_models_1 _____________________________\u001b[0m\n",
      "\n",
      "    \u001b[94mdef\u001b[39;49;00m \u001b[92mtest_return_models_1\u001b[39;49;00m():\n",
      "        file_name = \u001b[33m'\u001b[39;49;00m\u001b[33minput/cars_1.txt\u001b[39;49;00m\u001b[33m'\u001b[39;49;00m\n",
      "        maker = \u001b[33m'\u001b[39;49;00m\u001b[33mFord\u001b[39;49;00m\u001b[33m'\u001b[39;49;00m\n",
      ">       \u001b[94massert\u001b[39;49;00m return_models(file_name, maker) ==\\\n",
      "               [\u001b[33m'\u001b[39;49;00m\u001b[33mEscape\u001b[39;49;00m\u001b[33m'\u001b[39;49;00m, \u001b[33m'\u001b[39;49;00m\u001b[33mExpedition\u001b[39;49;00m\u001b[33m'\u001b[39;49;00m, \u001b[33m'\u001b[39;49;00m\u001b[33mExplorer\u001b[39;49;00m\u001b[33m'\u001b[39;49;00m,\n",
      "                \u001b[33m'\u001b[39;49;00m\u001b[33mF-150\u001b[39;49;00m\u001b[33m'\u001b[39;49;00m, \u001b[33m'\u001b[39;49;00m\u001b[33mMustang\u001b[39;49;00m\u001b[33m'\u001b[39;49;00m, \u001b[33m'\u001b[39;49;00m\u001b[33mTaurus\u001b[39;49;00m\u001b[33m'\u001b[39;49;00m]\n",
      "\u001b[1m\u001b[31mE       NameError: name 'return_models' is not defined\u001b[0m\n",
      "\n",
      "\u001b[1m\u001b[31mtest_quiz3.py\u001b[0m:18: NameError\n",
      "\u001b[31m\u001b[1m________________________ test_maker_with_most_models_1 _________________________\u001b[0m\n",
      "\n",
      "    \u001b[94mdef\u001b[39;49;00m \u001b[92mtest_maker_with_most_models_1\u001b[39;49;00m():\n",
      "        file_name = \u001b[33m'\u001b[39;49;00m\u001b[33minput/cars_1.txt\u001b[39;49;00m\u001b[33m'\u001b[39;49;00m\n",
      ">       \u001b[94massert\u001b[39;49;00m maker_with_most_models(file_name) ==\\\n",
      "               [(\u001b[33m'\u001b[39;49;00m\u001b[33mFord\u001b[39;49;00m\u001b[33m'\u001b[39;49;00m, \u001b[94m6\u001b[39;49;00m)]\n",
      "\u001b[1m\u001b[31mE       NameError: name 'maker_with_most_models' is not defined\u001b[0m\n",
      "\n",
      "\u001b[1m\u001b[31mtest_quiz3.py\u001b[0m:25: NameError\n",
      "\u001b[31m\u001b[1m_____________________________ test_return_models_2 _____________________________\u001b[0m\n",
      "\n",
      "    \u001b[94mdef\u001b[39;49;00m \u001b[92mtest_return_models_2\u001b[39;49;00m():\n",
      "        file_name = \u001b[33m'\u001b[39;49;00m\u001b[33minput/cars_2.txt\u001b[39;49;00m\u001b[33m'\u001b[39;49;00m\n",
      "        maker = \u001b[33m'\u001b[39;49;00m\u001b[33mBMW\u001b[39;49;00m\u001b[33m'\u001b[39;49;00m\n",
      ">       \u001b[94massert\u001b[39;49;00m return_models(file_name, maker) ==\\\n",
      "               [\u001b[33m'\u001b[39;49;00m\u001b[33mX1\u001b[39;49;00m\u001b[33m'\u001b[39;49;00m, \u001b[33m'\u001b[39;49;00m\u001b[33mX2\u001b[39;49;00m\u001b[33m'\u001b[39;49;00m, \u001b[33m'\u001b[39;49;00m\u001b[33mX3\u001b[39;49;00m\u001b[33m'\u001b[39;49;00m]\n",
      "\u001b[1m\u001b[31mE       NameError: name 'return_models' is not defined\u001b[0m\n",
      "\n",
      "\u001b[1m\u001b[31mtest_quiz3.py\u001b[0m:43: NameError\n",
      "\u001b[31m\u001b[1m________________________ test_maker_with_most_models_2 _________________________\u001b[0m\n",
      "\n",
      "    \u001b[94mdef\u001b[39;49;00m \u001b[92mtest_maker_with_most_models_2\u001b[39;49;00m():\n",
      "        file_name = \u001b[33m'\u001b[39;49;00m\u001b[33minput/cars_2.txt\u001b[39;49;00m\u001b[33m'\u001b[39;49;00m\n",
      ">       \u001b[94massert\u001b[39;49;00m maker_with_most_models(file_name) ==\\\n",
      "               [(\u001b[33m'\u001b[39;49;00m\u001b[33mBMW\u001b[39;49;00m\u001b[33m'\u001b[39;49;00m, \u001b[94m3\u001b[39;49;00m), (\u001b[33m'\u001b[39;49;00m\u001b[33mHyundai\u001b[39;49;00m\u001b[33m'\u001b[39;49;00m, \u001b[94m3\u001b[39;49;00m)]\n",
      "\u001b[1m\u001b[31mE       NameError: name 'maker_with_most_models' is not defined\u001b[0m\n",
      "\n",
      "\u001b[1m\u001b[31mtest_quiz3.py\u001b[0m:49: NameError\n",
      "=========================== short test summary info ============================\n",
      "FAILED test_quiz3.py::test_return_models_1 - NameError: name 'return_models' ...\n",
      "FAILED test_quiz3.py::test_maker_with_most_models_1 - NameError: name 'maker_...\n",
      "FAILED test_quiz3.py::test_return_models_2 - NameError: name 'return_models' ...\n",
      "FAILED test_quiz3.py::test_maker_with_most_models_2 - NameError: name 'maker_...\n",
      "\u001b[31m========================= \u001b[31m\u001b[1m4 failed\u001b[0m, \u001b[32m4 passed\u001b[0m\u001b[31m in 0.21s\u001b[0m\u001b[31m ==========================\u001b[0m\n"
     ]
    }
   ],
   "source": [
    "!pytest"
   ]
  },
  {
   "cell_type": "markdown",
   "id": "b1369d8c-8385-4349-b84a-b24761052257",
   "metadata": {},
   "source": [
    "Unique?? - Set"
   ]
  },
  {
   "cell_type": "code",
   "execution_count": 49,
   "id": "3ff30f34-ac25-4eb1-a3b3-fa939383eb92",
   "metadata": {},
   "outputs": [],
   "source": [
    "assign = func_name()"
   ]
  },
  {
   "cell_type": "code",
   "execution_count": 11,
   "id": "e2c54570-98f7-401f-8c94-28f360545e2a",
   "metadata": {},
   "outputs": [
    {
     "data": {
      "text/plain": [
       "'1'"
      ]
     },
     "execution_count": 11,
     "metadata": {},
     "output_type": "execute_result"
    }
   ],
   "source": [
    "assign "
   ]
  },
  {
   "cell_type": "code",
   "execution_count": null,
   "id": "564ac7e9-e21d-4889-9bb8-3f7a30a9c91a",
   "metadata": {},
   "outputs": [],
   "source": [
    "def func():\n",
    "    return"
   ]
  }
 ],
 "metadata": {
  "kernelspec": {
   "display_name": "Python 3 (ipykernel)",
   "language": "python",
   "name": "python3"
  },
  "language_info": {
   "codemirror_mode": {
    "name": "ipython",
    "version": 3
   },
   "file_extension": ".py",
   "mimetype": "text/x-python",
   "name": "python",
   "nbconvert_exporter": "python",
   "pygments_lexer": "ipython3",
   "version": "3.9.12"
  }
 },
 "nbformat": 4,
 "nbformat_minor": 5
}
